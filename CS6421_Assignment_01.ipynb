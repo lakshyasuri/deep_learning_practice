{
 "cells": [
  {
   "cell_type": "markdown",
   "metadata": {
    "id": "GHI8oLVYcolR"
   },
   "source": [
    "# Assignment 1- Topics From Labs 1 & 2\n",
    "  <a target=\"_blank\" href=\"https://colab.research.google.com/github/andrew-nash/CS6421-labs-2025/blob/main/CS6421_Assignment_01.ipynb\">\n",
    "  <img src=\"https://colab.research.google.com/assets/colab-badge.svg\" alt=\"Open In Colab\"/>\n",
    "</a>\n",
    "\n",
    "Due on  20/02/2025 at 23:59:59 UTC"
   ]
  },
  {
   "cell_type": "code",
   "execution_count": 1,
   "metadata": {
    "id": "MjbPNQP8ddI6"
   },
   "outputs": [],
   "source": [
    "import tensorflow as tf\n",
    "import matplotlib.pyplot as plt\n",
    "import pandas as pd\n",
    "import numpy as np"
   ]
  },
  {
   "cell_type": "markdown",
   "metadata": {
    "id": "gcE3zaaZ5F8o"
   },
   "source": [
    "# Data Loading And Cleaning\n",
    "\n",
    "For this lab, we will use a house pricing dataset (credit: https://www.kaggle.com/datasets/shree1992/housedata). However, instead of predicting house prices here, we are instead going to attempt to classity to condition of the property based on the other featues."
   ]
  },
  {
   "cell_type": "code",
   "execution_count": 2,
   "metadata": {
    "id": "iz_5wMunvFi0"
   },
   "outputs": [
    {
     "name": "stderr",
     "output_type": "stream",
     "text": [
      "--2025-02-15 12:39:57--  https://github.com/andrew-nash/CS6421-labs-2025/raw/refs/heads/main/data.csv\n",
      "Resolving github.com (github.com)... 4.208.26.197\n",
      "Connecting to github.com (github.com)|4.208.26.197|:443... connected.\n",
      "HTTP request sent, awaiting response... 302 Found\n",
      "Location: https://raw.githubusercontent.com/andrew-nash/CS6421-labs-2025/refs/heads/main/data.csv [following]\n",
      "--2025-02-15 12:39:57--  https://raw.githubusercontent.com/andrew-nash/CS6421-labs-2025/refs/heads/main/data.csv\n",
      "Resolving raw.githubusercontent.com (raw.githubusercontent.com)... 185.199.111.133, 185.199.110.133, 185.199.108.133, ...\n",
      "Connecting to raw.githubusercontent.com (raw.githubusercontent.com)|185.199.111.133|:443... connected.\n",
      "HTTP request sent, awaiting response... 200 OK\n",
      "Length: 526795 (514K) [text/plain]\n",
      "Saving to: ‘data.csv’\n",
      "\n",
      "     0K .......... .......... .......... .......... ..........  9% 3.08M 0s\n",
      "    50K .......... .......... .......... .......... .......... 19% 34.9M 0s\n",
      "   100K .......... .......... .......... .......... .......... 29% 3.11M 0s\n",
      "   150K .......... .......... .......... .......... .......... 38%  264M 0s\n",
      "   200K .......... .......... .......... .......... .......... 48% 7.97M 0s\n",
      "   250K .......... .......... .......... .......... .......... 58% 8.47M 0s\n",
      "   300K .......... .......... .......... .......... .......... 68% 10.3M 0s\n",
      "   350K .......... .......... .......... .......... .......... 77% 6.81M 0s\n",
      "   400K .......... .......... .......... .......... .......... 87% 6.97M 0s\n",
      "   450K .......... .......... .......... .......... .......... 97% 8.09M 0s\n",
      "   500K .......... ....                                       100% 98.7M=0.07s\n",
      "\n",
      "2025-02-15 12:39:57 (7.16 MB/s) - ‘data.csv’ saved [526795/526795]\n",
      "\n"
     ]
    }
   ],
   "source": [
    "%%bash\n",
    "wget -O data.csv https://github.com/andrew-nash/CS6421-labs-2025/raw/refs/heads/main/data.csv"
   ]
  },
  {
   "cell_type": "code",
   "execution_count": 2,
   "metadata": {
    "id": "Mjoxz44ScZ4v"
   },
   "outputs": [
    {
     "data": {
      "text/html": [
       "<div>\n",
       "<style scoped>\n",
       "    .dataframe tbody tr th:only-of-type {\n",
       "        vertical-align: middle;\n",
       "    }\n",
       "\n",
       "    .dataframe tbody tr th {\n",
       "        vertical-align: top;\n",
       "    }\n",
       "\n",
       "    .dataframe thead th {\n",
       "        text-align: right;\n",
       "    }\n",
       "</style>\n",
       "<table border=\"1\" class=\"dataframe\">\n",
       "  <thead>\n",
       "    <tr style=\"text-align: right;\">\n",
       "      <th></th>\n",
       "      <th>date</th>\n",
       "      <th>price</th>\n",
       "      <th>bedrooms</th>\n",
       "      <th>bathrooms</th>\n",
       "      <th>sqft_living</th>\n",
       "      <th>sqft_lot</th>\n",
       "      <th>floors</th>\n",
       "      <th>waterfront</th>\n",
       "      <th>view</th>\n",
       "      <th>condition</th>\n",
       "      <th>sqft_above</th>\n",
       "      <th>sqft_basement</th>\n",
       "      <th>yr_built</th>\n",
       "      <th>yr_renovated</th>\n",
       "      <th>street</th>\n",
       "      <th>city</th>\n",
       "      <th>statezip</th>\n",
       "      <th>country</th>\n",
       "    </tr>\n",
       "  </thead>\n",
       "  <tbody>\n",
       "    <tr>\n",
       "      <th>0</th>\n",
       "      <td>2014-05-02 00:00:00</td>\n",
       "      <td>3.130000e+05</td>\n",
       "      <td>3.0</td>\n",
       "      <td>1.50</td>\n",
       "      <td>1340</td>\n",
       "      <td>7912</td>\n",
       "      <td>1.5</td>\n",
       "      <td>0</td>\n",
       "      <td>0</td>\n",
       "      <td>3</td>\n",
       "      <td>1340</td>\n",
       "      <td>0</td>\n",
       "      <td>1955</td>\n",
       "      <td>2005</td>\n",
       "      <td>18810 Densmore Ave N</td>\n",
       "      <td>Shoreline</td>\n",
       "      <td>WA 98133</td>\n",
       "      <td>USA</td>\n",
       "    </tr>\n",
       "    <tr>\n",
       "      <th>1</th>\n",
       "      <td>2014-05-02 00:00:00</td>\n",
       "      <td>2.384000e+06</td>\n",
       "      <td>5.0</td>\n",
       "      <td>2.50</td>\n",
       "      <td>3650</td>\n",
       "      <td>9050</td>\n",
       "      <td>2.0</td>\n",
       "      <td>0</td>\n",
       "      <td>4</td>\n",
       "      <td>5</td>\n",
       "      <td>3370</td>\n",
       "      <td>280</td>\n",
       "      <td>1921</td>\n",
       "      <td>0</td>\n",
       "      <td>709 W Blaine St</td>\n",
       "      <td>Seattle</td>\n",
       "      <td>WA 98119</td>\n",
       "      <td>USA</td>\n",
       "    </tr>\n",
       "    <tr>\n",
       "      <th>2</th>\n",
       "      <td>2014-05-02 00:00:00</td>\n",
       "      <td>3.420000e+05</td>\n",
       "      <td>3.0</td>\n",
       "      <td>2.00</td>\n",
       "      <td>1930</td>\n",
       "      <td>11947</td>\n",
       "      <td>1.0</td>\n",
       "      <td>0</td>\n",
       "      <td>0</td>\n",
       "      <td>4</td>\n",
       "      <td>1930</td>\n",
       "      <td>0</td>\n",
       "      <td>1966</td>\n",
       "      <td>0</td>\n",
       "      <td>26206-26214 143rd Ave SE</td>\n",
       "      <td>Kent</td>\n",
       "      <td>WA 98042</td>\n",
       "      <td>USA</td>\n",
       "    </tr>\n",
       "    <tr>\n",
       "      <th>3</th>\n",
       "      <td>2014-05-02 00:00:00</td>\n",
       "      <td>4.200000e+05</td>\n",
       "      <td>3.0</td>\n",
       "      <td>2.25</td>\n",
       "      <td>2000</td>\n",
       "      <td>8030</td>\n",
       "      <td>1.0</td>\n",
       "      <td>0</td>\n",
       "      <td>0</td>\n",
       "      <td>4</td>\n",
       "      <td>1000</td>\n",
       "      <td>1000</td>\n",
       "      <td>1963</td>\n",
       "      <td>0</td>\n",
       "      <td>857 170th Pl NE</td>\n",
       "      <td>Bellevue</td>\n",
       "      <td>WA 98008</td>\n",
       "      <td>USA</td>\n",
       "    </tr>\n",
       "    <tr>\n",
       "      <th>4</th>\n",
       "      <td>2014-05-02 00:00:00</td>\n",
       "      <td>5.500000e+05</td>\n",
       "      <td>4.0</td>\n",
       "      <td>2.50</td>\n",
       "      <td>1940</td>\n",
       "      <td>10500</td>\n",
       "      <td>1.0</td>\n",
       "      <td>0</td>\n",
       "      <td>0</td>\n",
       "      <td>4</td>\n",
       "      <td>1140</td>\n",
       "      <td>800</td>\n",
       "      <td>1976</td>\n",
       "      <td>1992</td>\n",
       "      <td>9105 170th Ave NE</td>\n",
       "      <td>Redmond</td>\n",
       "      <td>WA 98052</td>\n",
       "      <td>USA</td>\n",
       "    </tr>\n",
       "    <tr>\n",
       "      <th>...</th>\n",
       "      <td>...</td>\n",
       "      <td>...</td>\n",
       "      <td>...</td>\n",
       "      <td>...</td>\n",
       "      <td>...</td>\n",
       "      <td>...</td>\n",
       "      <td>...</td>\n",
       "      <td>...</td>\n",
       "      <td>...</td>\n",
       "      <td>...</td>\n",
       "      <td>...</td>\n",
       "      <td>...</td>\n",
       "      <td>...</td>\n",
       "      <td>...</td>\n",
       "      <td>...</td>\n",
       "      <td>...</td>\n",
       "      <td>...</td>\n",
       "      <td>...</td>\n",
       "    </tr>\n",
       "    <tr>\n",
       "      <th>4595</th>\n",
       "      <td>2014-07-09 00:00:00</td>\n",
       "      <td>3.081667e+05</td>\n",
       "      <td>3.0</td>\n",
       "      <td>1.75</td>\n",
       "      <td>1510</td>\n",
       "      <td>6360</td>\n",
       "      <td>1.0</td>\n",
       "      <td>0</td>\n",
       "      <td>0</td>\n",
       "      <td>4</td>\n",
       "      <td>1510</td>\n",
       "      <td>0</td>\n",
       "      <td>1954</td>\n",
       "      <td>1979</td>\n",
       "      <td>501 N 143rd St</td>\n",
       "      <td>Seattle</td>\n",
       "      <td>WA 98133</td>\n",
       "      <td>USA</td>\n",
       "    </tr>\n",
       "    <tr>\n",
       "      <th>4596</th>\n",
       "      <td>2014-07-09 00:00:00</td>\n",
       "      <td>5.343333e+05</td>\n",
       "      <td>3.0</td>\n",
       "      <td>2.50</td>\n",
       "      <td>1460</td>\n",
       "      <td>7573</td>\n",
       "      <td>2.0</td>\n",
       "      <td>0</td>\n",
       "      <td>0</td>\n",
       "      <td>3</td>\n",
       "      <td>1460</td>\n",
       "      <td>0</td>\n",
       "      <td>1983</td>\n",
       "      <td>2009</td>\n",
       "      <td>14855 SE 10th Pl</td>\n",
       "      <td>Bellevue</td>\n",
       "      <td>WA 98007</td>\n",
       "      <td>USA</td>\n",
       "    </tr>\n",
       "    <tr>\n",
       "      <th>4597</th>\n",
       "      <td>2014-07-09 00:00:00</td>\n",
       "      <td>4.169042e+05</td>\n",
       "      <td>3.0</td>\n",
       "      <td>2.50</td>\n",
       "      <td>3010</td>\n",
       "      <td>7014</td>\n",
       "      <td>2.0</td>\n",
       "      <td>0</td>\n",
       "      <td>0</td>\n",
       "      <td>3</td>\n",
       "      <td>3010</td>\n",
       "      <td>0</td>\n",
       "      <td>2009</td>\n",
       "      <td>0</td>\n",
       "      <td>759 Ilwaco Pl NE</td>\n",
       "      <td>Renton</td>\n",
       "      <td>WA 98059</td>\n",
       "      <td>USA</td>\n",
       "    </tr>\n",
       "    <tr>\n",
       "      <th>4598</th>\n",
       "      <td>2014-07-10 00:00:00</td>\n",
       "      <td>2.034000e+05</td>\n",
       "      <td>4.0</td>\n",
       "      <td>2.00</td>\n",
       "      <td>2090</td>\n",
       "      <td>6630</td>\n",
       "      <td>1.0</td>\n",
       "      <td>0</td>\n",
       "      <td>0</td>\n",
       "      <td>3</td>\n",
       "      <td>1070</td>\n",
       "      <td>1020</td>\n",
       "      <td>1974</td>\n",
       "      <td>0</td>\n",
       "      <td>5148 S Creston St</td>\n",
       "      <td>Seattle</td>\n",
       "      <td>WA 98178</td>\n",
       "      <td>USA</td>\n",
       "    </tr>\n",
       "    <tr>\n",
       "      <th>4599</th>\n",
       "      <td>2014-07-10 00:00:00</td>\n",
       "      <td>2.206000e+05</td>\n",
       "      <td>3.0</td>\n",
       "      <td>2.50</td>\n",
       "      <td>1490</td>\n",
       "      <td>8102</td>\n",
       "      <td>2.0</td>\n",
       "      <td>0</td>\n",
       "      <td>0</td>\n",
       "      <td>4</td>\n",
       "      <td>1490</td>\n",
       "      <td>0</td>\n",
       "      <td>1990</td>\n",
       "      <td>0</td>\n",
       "      <td>18717 SE 258th St</td>\n",
       "      <td>Covington</td>\n",
       "      <td>WA 98042</td>\n",
       "      <td>USA</td>\n",
       "    </tr>\n",
       "  </tbody>\n",
       "</table>\n",
       "<p>4600 rows × 18 columns</p>\n",
       "</div>"
      ],
      "text/plain": [
       "                     date         price  bedrooms  bathrooms  sqft_living  \\\n",
       "0     2014-05-02 00:00:00  3.130000e+05       3.0       1.50         1340   \n",
       "1     2014-05-02 00:00:00  2.384000e+06       5.0       2.50         3650   \n",
       "2     2014-05-02 00:00:00  3.420000e+05       3.0       2.00         1930   \n",
       "3     2014-05-02 00:00:00  4.200000e+05       3.0       2.25         2000   \n",
       "4     2014-05-02 00:00:00  5.500000e+05       4.0       2.50         1940   \n",
       "...                   ...           ...       ...        ...          ...   \n",
       "4595  2014-07-09 00:00:00  3.081667e+05       3.0       1.75         1510   \n",
       "4596  2014-07-09 00:00:00  5.343333e+05       3.0       2.50         1460   \n",
       "4597  2014-07-09 00:00:00  4.169042e+05       3.0       2.50         3010   \n",
       "4598  2014-07-10 00:00:00  2.034000e+05       4.0       2.00         2090   \n",
       "4599  2014-07-10 00:00:00  2.206000e+05       3.0       2.50         1490   \n",
       "\n",
       "      sqft_lot  floors  waterfront  view  condition  sqft_above  \\\n",
       "0         7912     1.5           0     0          3        1340   \n",
       "1         9050     2.0           0     4          5        3370   \n",
       "2        11947     1.0           0     0          4        1930   \n",
       "3         8030     1.0           0     0          4        1000   \n",
       "4        10500     1.0           0     0          4        1140   \n",
       "...        ...     ...         ...   ...        ...         ...   \n",
       "4595      6360     1.0           0     0          4        1510   \n",
       "4596      7573     2.0           0     0          3        1460   \n",
       "4597      7014     2.0           0     0          3        3010   \n",
       "4598      6630     1.0           0     0          3        1070   \n",
       "4599      8102     2.0           0     0          4        1490   \n",
       "\n",
       "      sqft_basement  yr_built  yr_renovated                    street  \\\n",
       "0                 0      1955          2005      18810 Densmore Ave N   \n",
       "1               280      1921             0           709 W Blaine St   \n",
       "2                 0      1966             0  26206-26214 143rd Ave SE   \n",
       "3              1000      1963             0           857 170th Pl NE   \n",
       "4               800      1976          1992         9105 170th Ave NE   \n",
       "...             ...       ...           ...                       ...   \n",
       "4595              0      1954          1979            501 N 143rd St   \n",
       "4596              0      1983          2009          14855 SE 10th Pl   \n",
       "4597              0      2009             0          759 Ilwaco Pl NE   \n",
       "4598           1020      1974             0         5148 S Creston St   \n",
       "4599              0      1990             0         18717 SE 258th St   \n",
       "\n",
       "           city  statezip country  \n",
       "0     Shoreline  WA 98133     USA  \n",
       "1       Seattle  WA 98119     USA  \n",
       "2          Kent  WA 98042     USA  \n",
       "3      Bellevue  WA 98008     USA  \n",
       "4       Redmond  WA 98052     USA  \n",
       "...         ...       ...     ...  \n",
       "4595    Seattle  WA 98133     USA  \n",
       "4596   Bellevue  WA 98007     USA  \n",
       "4597     Renton  WA 98059     USA  \n",
       "4598    Seattle  WA 98178     USA  \n",
       "4599  Covington  WA 98042     USA  \n",
       "\n",
       "[4600 rows x 18 columns]"
      ]
     },
     "execution_count": 2,
     "metadata": {},
     "output_type": "execute_result"
    }
   ],
   "source": [
    "raw_data = pd.read_csv(\"data.csv\")\n",
    "raw_data"
   ]
  },
  {
   "cell_type": "code",
   "execution_count": 3,
   "metadata": {
    "id": "lU_CawCwxMWn"
   },
   "outputs": [],
   "source": [
    "def get_seed_from_s_no(s_no):\n",
    "  ### DO NOT CHANGE THIS FUNCION\n",
    "  seeds = [[16, 81], [30, 18]]\n",
    "  i = int(student_no%2==0)\n",
    "  j = int(student_no%10<5)\n",
    "  return seeds[i][j]"
   ]
  },
  {
   "cell_type": "code",
   "execution_count": 222,
   "metadata": {
    "id": "QhOx966BvQrY"
   },
   "outputs": [],
   "source": [
    "features = [\"price\",\"bedrooms\",\"bathrooms\",\"sqft_living\",\"sqft_lot\",\"floors\",\"waterfront\",\"view\",\"sqft_above\",\t\"sqft_basement\",\t\"yr_built\",\t\"yr_renovated\"]\n",
    "\n",
    "reduced_data = raw_data[features+['condition']]\n",
    "\n",
    "# enter your student number here\n",
    "student_no = 124101111\n",
    "\n",
    "df = raw_data.sample(axis=1,frac=1, random_state=get_seed_from_s_no(student_no))"
   ]
  },
  {
   "cell_type": "code",
   "execution_count": 223,
   "metadata": {},
   "outputs": [
    {
     "name": "stdout",
     "output_type": "stream",
     "text": [
      "(3910, 12)\n",
      "(3910,)\n"
     ]
    }
   ],
   "source": [
    "train_split = 0.85\n",
    "\n",
    "x_train = df[features].to_numpy()[:int(train_split*len(df))]\n",
    "y_train = df['condition'].to_numpy()[:int(train_split*len(df))]\n",
    "\n",
    "x_test = df[features].to_numpy()[int(train_split*len(df)):]\n",
    "y_test = df['condition'].to_numpy()[int(train_split*len(df)):]"
   ]
  },
  {
   "cell_type": "code",
   "execution_count": 224,
   "metadata": {
    "id": "vTeyc_l13sMa"
   },
   "outputs": [
    {
     "name": "stdout",
     "output_type": "stream",
     "text": [
      "(690, 5)\n",
      "690\n",
      "(3910, 12)\n",
      "[[0.03299115 0.33333333 0.1875     ... 0.         0.02730884 0.99553128]\n",
      " [0.32623009 0.55555556 0.3125     ... 0.05809129 0.01042701 0.        ]\n",
      " [0.03709735 0.33333333 0.25       ... 0.         0.03277061 0.        ]\n",
      " ...\n",
      " [0.02265487 0.33333333 0.21875    ... 0.         0.02979146 0.99900695]\n",
      " [0.01670796 0.44444444 0.21875    ... 0.21369295 0.03277061 0.        ]\n",
      " [0.06867257 0.44444444 0.3125     ... 0.1659751  0.03426018 0.        ]]\n"
     ]
    }
   ],
   "source": [
    "# scaling the x valuee to [0,1] on each column\n",
    "# is done as follows\n",
    "# axis=0 means that the operation is performed accross each column\n",
    "x_train_clean = (x_train-x_train.min(axis=0))/x_train.max(axis=0)\n",
    "\n",
    "#### IMPORTATNT - observe that we scale by _train.min()\n",
    "# when we are scaling the test dataset - why is this?\n",
    "x_test_clean = (x_test-x_train.min(axis=0))/x_train.max(axis=0)\n",
    "\n",
    "### Convert the y data to one hot encoding.\n",
    "### There are 5 values for condition: 1,2,3,4,5\n",
    "###\n",
    "### If we want to use the tf.one_hot function then\n",
    "### convert these to 0,1,2,3,4\n",
    "\n",
    "y_train_clean = tf.one_hot(y_train-1, depth=5)\n",
    "y_test_clean  = tf.one_hot(y_test-1, depth=5)"
   ]
  },
  {
   "cell_type": "markdown",
   "metadata": {
    "id": "HrQQ_2kq-4vJ"
   },
   "source": [
    "\n",
    "# Task 1: Hyper-parameter Optimzation\n",
    "\n",
    "We will use the Keras tuner to partially automate this process (https://www.tensorflow.org/tutorials/keras/keras_tuner)"
   ]
  },
  {
   "cell_type": "markdown",
   "metadata": {
    "id": "A7XTo6opAOy9"
   },
   "source": [
    "### Model Builder Function\n",
    "\n",
    "The first step is to define a function over the hyper-parameters of interest, that returns the validation metrics.\n",
    "\n",
    "We will then search over these arguments to find their optimal values.\n",
    "\n",
    "For this task, you should search over the following hyper-parameters\n",
    "\n",
    "\n",
    "| Hyper-Parameter | Min | Max |\n",
    "| -- | -- | -- |\n",
    "| No. Layers | 2 | 10 |\n",
    "| Neurons in layer `i` | 10 | 750 |\n",
    "| Regularization | 0.0001 | 0.1 |\n",
    "\n",
    "<br>\n",
    "\n",
    "| Hyper-Parameter | Choices |\n",
    "|---|---|\n",
    "| Activaiton | [relu, elu, sigmoid]|\n",
    "| Type of Regularization | [L1,L2,L1L2] |\n",
    "| Use BatchNorm | [True, False] |\n",
    "| batch_size | [16,64,124] |\n",
    "| Learning Rate | [0.01,0.001,0.001] |\n",
    "| kernel_initializer |  [\"glorot_normal\",\"glorot_uniform\", \"zeros\"] |\n",
    "| bias_initializer |  [\"zeros\", \"onesß\"] |\n",
    "\n",
    "\n"
   ]
  },
  {
   "cell_type": "code",
   "execution_count": null,
   "metadata": {
    "id": "PDmFSeI3Cqi5"
   },
   "outputs": [],
   "source": [
    "!pip install -U keras-tuner"
   ]
  },
  {
   "cell_type": "code",
   "execution_count": null,
   "metadata": {
    "id": "pyo0RYS8H7nn"
   },
   "outputs": [],
   "source": [
    "%load_ext tensorboard"
   ]
  },
  {
   "cell_type": "code",
   "execution_count": 7,
   "metadata": {
    "id": "zG4ghsYRCnRE"
   },
   "outputs": [],
   "source": [
    "import keras_tuner as kt"
   ]
  },
  {
   "cell_type": "code",
   "execution_count": 10,
   "metadata": {
    "id": "K7797hI-Cc2R"
   },
   "outputs": [],
   "source": [
    "def task1_search_model_coarse(hp):\n",
    "  model = tf.keras.models.Sequential()\n",
    "\n",
    "  model.add(tf.keras.layers.Input(shape=(12,)))\n",
    "\n",
    "  num_layers = hp.Int(\"num_layers\", min_value=2, max_value=10, step=2)\n",
    "  reg_type = hp.Choice(\"reg_type\", [\"L1\", \"L2\", \"L1L2\"])\n",
    "  reg_level = hp.Choice(\"reg_level\", [0.0001, 0.001, 0.01, 0.1])\n",
    "\n",
    "  act_fuc = hp.Choice(\"act_fuc\", [\"relu\", \"elu\", \"sigmoid\"])\n",
    "\n",
    "  for i in range(num_layers):\n",
    "    neurons = hp.Int(f\"num_neurons_layer_{i}\", min_value=10, max_value=750, step=2, sampling='log')\n",
    "\n",
    "    if reg_type == \"L1\":\n",
    "      reg = tf.keras.regularizers.L1(l1=reg_level)\n",
    "    elif reg_type == \"L2\":\n",
    "      reg = tf.keras.regularizers.L2(l2=reg_level)\n",
    "    else:\n",
    "      reg = tf.keras.regularizers.L1L2(l1=reg_level, l2=reg_level)\n",
    "\n",
    "    kernel_initializer = hp.Choice(\"kernel_initializer\", [\"glorot_normal\",\"glorot_uniform\", \"zeros\"])\n",
    "    bias_initializer = hp.Choice(\"bias_initializer\", [\"zeros\", \"ones\"])\n",
    "\n",
    "    model.add(tf.keras.layers.Dense(neurons, activation=act_fuc,\n",
    "                                    activity_regularizer = reg,\n",
    "                                    kernel_initializer=kernel_initializer,\n",
    "                                    bias_initializer=bias_initializer))\n",
    "\n",
    "    add_batchnorm = hp.Boolean(\"add_batchnorm\")\n",
    "    if add_batchnorm:\n",
    "      model.add(tf.keras.layers.BatchNormalization())\n",
    "\n",
    "\n",
    "  model.add(tf.keras.layers.Dense(5, activation=\"softmax\"))\n",
    "\n",
    "  lr = hp.Choice(\"learning_rate\", values=[0.01, 0.001, 0.0001])\n",
    "\n",
    "  model.compile(\n",
    "    optimizer= tf.keras.optimizers.Adam(learning_rate=lr),\n",
    "    loss = \"categorical_crossentropy\",\n",
    "    metrics = [\"accuracy\"]\n",
    "  )\n",
    "\n",
    "  return model\n"
   ]
  },
  {
   "cell_type": "code",
   "execution_count": 47,
   "metadata": {
    "id": "bFWfnKKsBcKT"
   },
   "outputs": [],
   "source": [
    "tuner = kt.RandomSearch(task1_search_model_coarse,\n",
    "                        objective='val_accuracy',\n",
    "                        max_trials=60,\n",
    "                        seed=42,\n",
    "                        overwrite=True,\n",
    "                        directory=\"./hyp_searches/\",\n",
    "                        project_name=\"coarse_search_bs16\")"
   ]
  },
  {
   "cell_type": "code",
   "execution_count": 48,
   "metadata": {
    "id": "VosAlmeDFKCB"
   },
   "outputs": [
    {
     "name": "stdout",
     "output_type": "stream",
     "text": [
      "Search space summary\n",
      "Default search space size: 10\n",
      "num_layers (Int)\n",
      "{'default': None, 'conditions': [], 'min_value': 2, 'max_value': 10, 'step': 2, 'sampling': 'linear'}\n",
      "reg_type (Choice)\n",
      "{'default': 'L1', 'conditions': [], 'values': ['L1', 'L2', 'L1L2'], 'ordered': False}\n",
      "reg_level (Choice)\n",
      "{'default': 0.0001, 'conditions': [], 'values': [0.0001, 0.001, 0.01, 0.1], 'ordered': True}\n",
      "act_fuc (Choice)\n",
      "{'default': 'relu', 'conditions': [], 'values': ['relu', 'elu', 'sigmoid'], 'ordered': False}\n",
      "num_neurons_layer_0 (Int)\n",
      "{'default': None, 'conditions': [], 'min_value': 10, 'max_value': 750, 'step': 2, 'sampling': 'log'}\n",
      "kernel_initializer (Choice)\n",
      "{'default': 'glorot_normal', 'conditions': [], 'values': ['glorot_normal', 'glorot_uniform', 'zeros'], 'ordered': False}\n",
      "bias_initializer (Choice)\n",
      "{'default': 'zeros', 'conditions': [], 'values': ['zeros', 'ones'], 'ordered': False}\n",
      "add_batchnorm (Boolean)\n",
      "{'default': False, 'conditions': []}\n",
      "num_neurons_layer_1 (Int)\n",
      "{'default': None, 'conditions': [], 'min_value': 10, 'max_value': 750, 'step': 2, 'sampling': 'log'}\n",
      "learning_rate (Choice)\n",
      "{'default': 0.01, 'conditions': [], 'values': [0.01, 0.001, 0.0001], 'ordered': True}\n"
     ]
    }
   ],
   "source": [
    "tuner.search_space_summary()"
   ]
  },
  {
   "cell_type": "code",
   "execution_count": null,
   "metadata": {
    "id": "oy909s8eRZMD"
   },
   "outputs": [],
   "source": [
    "%tensorboard --logdir \"./hyp_searches/coarse_search_bs16\""
   ]
  },
  {
   "cell_type": "code",
   "execution_count": 49,
   "metadata": {
    "id": "RiGjDYQhKmCe"
   },
   "outputs": [
    {
     "name": "stdout",
     "output_type": "stream",
     "text": [
      "Trial 60 Complete [00h 00m 04s]\n",
      "val_accuracy: 0.6321508288383484\n",
      "\n",
      "Best val_accuracy So Far: 0.7043783664703369\n",
      "Total elapsed time: 00h 04m 12s\n"
     ]
    }
   ],
   "source": [
    "tuner.search(\n",
    "    x_train_clean,\n",
    "    y_train_clean,\n",
    "\n",
    "    validation_split = 0.8,\n",
    "    batch_size=16,\n",
    "    epochs=10,\n",
    "    callbacks=[tf.keras.callbacks.TensorBoard(\"./hyp_searches/coarse_search_bs16/tb_logs\")]\n",
    ")"
   ]
  },
  {
   "cell_type": "code",
   "execution_count": 50,
   "metadata": {
    "id": "YBGt4Im9jarx"
   },
   "outputs": [
    {
     "data": {
      "text/plain": [
       "{'num_layers': 4,\n",
       " 'reg_type': 'L1L2',\n",
       " 'reg_level': 0.0001,\n",
       " 'act_fuc': 'elu',\n",
       " 'num_neurons_layer_0': 320,\n",
       " 'kernel_initializer': 'glorot_uniform',\n",
       " 'bias_initializer': 'zeros',\n",
       " 'add_batchnorm': False,\n",
       " 'num_neurons_layer_1': 160,\n",
       " 'learning_rate': 0.001,\n",
       " 'num_neurons_layer_2': 640,\n",
       " 'num_neurons_layer_3': 20,\n",
       " 'num_neurons_layer_4': 80,\n",
       " 'num_neurons_layer_5': 40,\n",
       " 'num_neurons_layer_6': 80,\n",
       " 'num_neurons_layer_7': 40,\n",
       " 'num_neurons_layer_8': 160,\n",
       " 'num_neurons_layer_9': 40}"
      ]
     },
     "execution_count": 50,
     "metadata": {},
     "output_type": "execute_result"
    }
   ],
   "source": [
    "tuner.get_best_hyperparameters()[0].values"
   ]
  },
  {
   "cell_type": "markdown",
   "metadata": {
    "id": "WyQPZ1NXNAGM"
   },
   "source": [
    "### Search Over other Values of batch_size"
   ]
  },
  {
   "cell_type": "code",
   "execution_count": 53,
   "metadata": {
    "id": "-7Wih3H-M1Ek"
   },
   "outputs": [
    {
     "name": "stdout",
     "output_type": "stream",
     "text": [
      "Trial 60 Complete [00h 00m 06s]\n",
      "val_accuracy: 0.6321508288383484\n",
      "\n",
      "Best val_accuracy So Far: 0.6976670026779175\n",
      "Total elapsed time: 00h 08m 06s\n"
     ]
    }
   ],
   "source": [
    "tuner = kt.RandomSearch(task1_search_model_coarse,\n",
    "                        objective='val_accuracy',\n",
    "                        max_trials=60,\n",
    "                        seed=42,\n",
    "                        overwrite=True,\n",
    "                        directory=\"./hyp_searches/\",\n",
    "                        project_name=\"coarse_search_bs64\")\n",
    "\n",
    "tuner.search(\n",
    "    x_train_clean,\n",
    "    y_train_clean,\n",
    "    validation_split = 0.8,\n",
    "    batch_size=64,\n",
    "    epochs=10,\n",
    "    callbacks=[tf.keras.callbacks.TensorBoard(\"./hyp_searches/coarse_search_bs64/tb_logs\")]\n",
    ")"
   ]
  },
  {
   "cell_type": "code",
   "execution_count": 54,
   "metadata": {
    "editable": true,
    "slideshow": {
     "slide_type": ""
    },
    "tags": []
   },
   "outputs": [
    {
     "data": {
      "text/plain": [
       "{'num_layers': 4,\n",
       " 'reg_type': 'L1L2',\n",
       " 'reg_level': 0.0001,\n",
       " 'act_fuc': 'elu',\n",
       " 'num_neurons_layer_0': 320,\n",
       " 'kernel_initializer': 'glorot_uniform',\n",
       " 'bias_initializer': 'zeros',\n",
       " 'add_batchnorm': False,\n",
       " 'num_neurons_layer_1': 160,\n",
       " 'learning_rate': 0.001,\n",
       " 'num_neurons_layer_2': 640,\n",
       " 'num_neurons_layer_3': 20,\n",
       " 'num_neurons_layer_4': 80,\n",
       " 'num_neurons_layer_5': 40,\n",
       " 'num_neurons_layer_6': 80,\n",
       " 'num_neurons_layer_7': 40,\n",
       " 'num_neurons_layer_8': 160,\n",
       " 'num_neurons_layer_9': 40}"
      ]
     },
     "execution_count": 54,
     "metadata": {},
     "output_type": "execute_result"
    }
   ],
   "source": [
    "tuner.get_best_hyperparameters()[0].values"
   ]
  },
  {
   "cell_type": "code",
   "execution_count": 55,
   "metadata": {
    "id": "rB73QDYDM1sq"
   },
   "outputs": [
    {
     "name": "stdout",
     "output_type": "stream",
     "text": [
      "Trial 60 Complete [00h 00m 12s]\n",
      "val_accuracy: 0.6321508288383484\n",
      "\n",
      "Best val_accuracy So Far: 0.7046979665756226\n",
      "Total elapsed time: 00h 11m 00s\n"
     ]
    }
   ],
   "source": [
    "tuner = kt.RandomSearch(task1_search_model_coarse,\n",
    "                        objective='val_accuracy',\n",
    "                        max_trials=60,\n",
    "                        seed=42,\n",
    "                        overwrite=True,\n",
    "                        directory=\"./hyp_searches/\",\n",
    "                        project_name=\"coarse_search_bs124\")\n",
    "tuner.search(\n",
    "    x_train_clean,\n",
    "    y_train_clean,\n",
    "    validation_split = 0.8,\n",
    "    batch_size=124,\n",
    "    epochs=10,\n",
    "    callbacks=[tf.keras.callbacks.TensorBoard(\"./hyp_searches/coarse_search_bs124/tb_logs\")]\n",
    ")"
   ]
  },
  {
   "cell_type": "code",
   "execution_count": 56,
   "metadata": {},
   "outputs": [
    {
     "data": {
      "text/plain": [
       "{'num_layers': 8,\n",
       " 'reg_type': 'L2',\n",
       " 'reg_level': 0.0001,\n",
       " 'act_fuc': 'elu',\n",
       " 'num_neurons_layer_0': 10,\n",
       " 'kernel_initializer': 'glorot_uniform',\n",
       " 'bias_initializer': 'zeros',\n",
       " 'add_batchnorm': False,\n",
       " 'num_neurons_layer_1': 20,\n",
       " 'learning_rate': 0.01,\n",
       " 'num_neurons_layer_2': 320,\n",
       " 'num_neurons_layer_3': 20,\n",
       " 'num_neurons_layer_4': 320,\n",
       " 'num_neurons_layer_5': 320,\n",
       " 'num_neurons_layer_6': 40,\n",
       " 'num_neurons_layer_7': 40,\n",
       " 'num_neurons_layer_8': 320,\n",
       " 'num_neurons_layer_9': 80}"
      ]
     },
     "execution_count": 56,
     "metadata": {},
     "output_type": "execute_result"
    }
   ],
   "source": [
    "tuner.get_best_hyperparameters()[0].values"
   ]
  },
  {
   "cell_type": "markdown",
   "metadata": {
    "id": "t4RLpBQ6Pkdc"
   },
   "source": [
    "### Continue Optimizing"
   ]
  },
  {
   "cell_type": "markdown",
   "metadata": {
    "id": "yQMiwjrMNeAE"
   },
   "source": [
    "Continue tuning this model.\n",
    "\n",
    "**IMPORTANT** Marks will be awarded based on your model-tuning process. Make sure all model builder function names start with `task1_search_`\n",
    "\n",
    "Based on the TensorBoard output above, you should be able to fix a few of the hyper-parameters (hint: such as the activation function).\n",
    "\n",
    "Continue to perform additional hyper-parameter searches to narrow in on the optimal set of hyper-parameters. From the table above.\n",
    "\n",
    "Don't just focus on taking the best validation accuracy - look at the TensorBoard outputs and try to find models that have good performance, but also minimal overfitting.\n",
    "\n"
   ]
  },
  {
   "cell_type": "code",
   "execution_count": 20,
   "metadata": {
    "editable": true,
    "slideshow": {
     "slide_type": ""
    },
    "tags": []
   },
   "outputs": [],
   "source": [
    "def task1_search_model_coarse_2(hp):\n",
    "    '''Sigmoid function is not really required in this case because it's not zero centric and will saturate for \n",
    "    higher positive values. \n",
    "    For all the three different batch-size searches, the kernel initializer is giving better performance \n",
    "    with uniform and normal distributions rather than 0 initial values. \n",
    "    \n",
    "    The bias when set to 1 can also be seen to overfit the data. Big difference between training and \n",
    "    validation accuracy '''\n",
    "    model = tf.keras.models.Sequential()\n",
    "\n",
    "    model.add(tf.keras.layers.Input(shape=(12,)))\n",
    "\n",
    "    num_layers = hp.Int(\"num_layers\", min_value=2, max_value=10, step=2)\n",
    "    reg_type = hp.Choice(\"reg_type\", [\"L1\", \"L2\", \"L1L2\"])\n",
    "    reg_level = hp.Choice(\"reg_level\", [0.0001, 0.001, 0.01, 0.1])\n",
    "    \n",
    "    act_fuc = hp.Choice(\"act_fuc\", [\"relu\", \"elu\"])\n",
    "    \n",
    "    for i in range(num_layers):\n",
    "        neurons = hp.Int(f\"num_neurons_layer_{i}\", min_value=10, max_value=750, step=2, sampling='log')\n",
    "        \n",
    "        if reg_type == \"L1\":\n",
    "          reg = tf.keras.regularizers.L1(l1=reg_level)\n",
    "        elif reg_type == \"L2\":\n",
    "          reg = tf.keras.regularizers.L2(l2=reg_level)\n",
    "        else:\n",
    "          reg = tf.keras.regularizers.L1L2(l1=reg_level, l2=reg_level)\n",
    "        \n",
    "        kernel_initializer = hp.Choice(\"kernel_initializer\", [\"glorot_normal\",\"glorot_uniform\"])\n",
    "        \n",
    "        model.add(tf.keras.layers.Dense(neurons, activation=act_fuc,\n",
    "                                        activity_regularizer = reg,\n",
    "                                        kernel_initializer=kernel_initializer,\n",
    "                                        bias_initializer=\"zeros\"))\n",
    "        \n",
    "        add_batchnorm = hp.Boolean(\"add_batchnorm\")\n",
    "        if add_batchnorm:\n",
    "          model.add(tf.keras.layers.BatchNormalization())\n",
    "    \n",
    "    \n",
    "    model.add(tf.keras.layers.Dense(5, activation=\"softmax\"))\n",
    "    \n",
    "    lr = hp.Choice(\"learning_rate\", values=[0.01, 0.001, 0.0001])\n",
    "    \n",
    "    model.compile(\n",
    "    optimizer= tf.keras.optimizers.Adam(learning_rate=lr),\n",
    "    loss = \"categorical_crossentropy\",\n",
    "    metrics = [\"accuracy\"]\n",
    "    )\n",
    "    return model"
   ]
  },
  {
   "cell_type": "code",
   "execution_count": 21,
   "metadata": {},
   "outputs": [],
   "source": [
    "tuner = kt.RandomSearch(task1_search_model_coarse_2,\n",
    "                        objective='val_accuracy',\n",
    "                        max_trials=60,\n",
    "                        seed=42,\n",
    "                        overwrite=True,\n",
    "                        directory=\"./hyp_searches/\",\n",
    "                        project_name=\"coarse_2_search_bs16\")"
   ]
  },
  {
   "cell_type": "code",
   "execution_count": null,
   "metadata": {},
   "outputs": [],
   "source": [
    "%tensorboard --logdir \"./hyp_searches/coarse_2_search_bs16\""
   ]
  },
  {
   "cell_type": "code",
   "execution_count": 22,
   "metadata": {},
   "outputs": [
    {
     "name": "stdout",
     "output_type": "stream",
     "text": [
      "Trial 60 Complete [00h 00m 07s]\n",
      "val_accuracy: 0.6960690021514893\n",
      "\n",
      "Best val_accuracy So Far: 0.710131049156189\n",
      "Total elapsed time: 00h 09m 24s\n"
     ]
    }
   ],
   "source": [
    "tuner.search(\n",
    "    x_train_clean,\n",
    "    y_train_clean,\n",
    "\n",
    "    validation_split = 0.8,\n",
    "    batch_size=16,\n",
    "    epochs=10,\n",
    "    callbacks=[tf.keras.callbacks.TensorBoard(\"./hyp_searches/coarse_2_search_bs16/tb_logs\")]\n",
    ")"
   ]
  },
  {
   "cell_type": "code",
   "execution_count": 23,
   "metadata": {},
   "outputs": [
    {
     "data": {
      "text/plain": [
       "{'num_layers': 6,\n",
       " 'reg_type': 'L1L2',\n",
       " 'reg_level': 0.0001,\n",
       " 'act_fuc': 'elu',\n",
       " 'num_neurons_layer_0': 40,\n",
       " 'kernel_initializer': 'glorot_normal',\n",
       " 'add_batchnorm': False,\n",
       " 'num_neurons_layer_1': 160,\n",
       " 'learning_rate': 0.01,\n",
       " 'num_neurons_layer_2': 640,\n",
       " 'num_neurons_layer_3': 160,\n",
       " 'num_neurons_layer_4': 40,\n",
       " 'num_neurons_layer_5': 80,\n",
       " 'num_neurons_layer_6': 40,\n",
       " 'num_neurons_layer_7': 40,\n",
       " 'num_neurons_layer_8': 40,\n",
       " 'num_neurons_layer_9': 640}"
      ]
     },
     "execution_count": 23,
     "metadata": {},
     "output_type": "execute_result"
    }
   ],
   "source": [
    "tuner.get_best_hyperparameters()[0].values"
   ]
  },
  {
   "cell_type": "code",
   "execution_count": 24,
   "metadata": {},
   "outputs": [],
   "source": [
    "tuner = kt.RandomSearch(task1_search_model_coarse_2,\n",
    "                        objective='val_accuracy',\n",
    "                        max_trials=60,\n",
    "                        seed=42,\n",
    "                        overwrite=True,\n",
    "                        directory=\"./hyp_searches/\",\n",
    "                        project_name=\"coarse_2_search_bs64\")"
   ]
  },
  {
   "cell_type": "code",
   "execution_count": null,
   "metadata": {},
   "outputs": [],
   "source": [
    "%tensorboard --logdir \"./hyp_searches/coarse_2_search_bs64\""
   ]
  },
  {
   "cell_type": "code",
   "execution_count": 25,
   "metadata": {},
   "outputs": [
    {
     "name": "stdout",
     "output_type": "stream",
     "text": [
      "Trial 60 Complete [00h 00m 12s]\n",
      "val_accuracy: 0.6340683698654175\n",
      "\n",
      "Best val_accuracy So Far: 0.7062959671020508\n",
      "Total elapsed time: 00h 10m 03s\n"
     ]
    }
   ],
   "source": [
    "tuner.search(\n",
    "    x_train_clean,\n",
    "    y_train_clean,\n",
    "    validation_split = 0.8,\n",
    "    batch_size=64,\n",
    "    epochs=10,\n",
    "    callbacks=[tf.keras.callbacks.TensorBoard(\"./hyp_searches/coarse_2_search_bs64/tb_logs\")]\n",
    ")"
   ]
  },
  {
   "cell_type": "code",
   "execution_count": 26,
   "metadata": {},
   "outputs": [
    {
     "data": {
      "text/plain": [
       "{'num_layers': 6,\n",
       " 'reg_type': 'L1',\n",
       " 'reg_level': 0.001,\n",
       " 'act_fuc': 'elu',\n",
       " 'num_neurons_layer_0': 40,\n",
       " 'kernel_initializer': 'glorot_uniform',\n",
       " 'add_batchnorm': False,\n",
       " 'num_neurons_layer_1': 40,\n",
       " 'learning_rate': 0.01,\n",
       " 'num_neurons_layer_2': 20,\n",
       " 'num_neurons_layer_3': 40,\n",
       " 'num_neurons_layer_4': 320,\n",
       " 'num_neurons_layer_5': 40,\n",
       " 'num_neurons_layer_6': 80,\n",
       " 'num_neurons_layer_7': 320,\n",
       " 'num_neurons_layer_8': 40,\n",
       " 'num_neurons_layer_9': 20}"
      ]
     },
     "execution_count": 26,
     "metadata": {},
     "output_type": "execute_result"
    }
   ],
   "source": [
    "tuner.get_best_hyperparameters()[0].values"
   ]
  },
  {
   "cell_type": "code",
   "execution_count": 27,
   "metadata": {},
   "outputs": [],
   "source": [
    "tuner = kt.RandomSearch(task1_search_model_coarse_2,\n",
    "                        objective='val_accuracy',\n",
    "                        max_trials=60,\n",
    "                        seed=42,\n",
    "                        overwrite=True,\n",
    "                        directory=\"./hyp_searches/\",\n",
    "                        project_name=\"coarse_2_search_bs124\")"
   ]
  },
  {
   "cell_type": "code",
   "execution_count": null,
   "metadata": {},
   "outputs": [],
   "source": [
    "%tensorboard --logdir \"./hyp_searches/coarse_2_search_bs124\""
   ]
  },
  {
   "cell_type": "code",
   "execution_count": 28,
   "metadata": {},
   "outputs": [
    {
     "name": "stdout",
     "output_type": "stream",
     "text": [
      "Trial 60 Complete [00h 00m 14s]\n",
      "val_accuracy: 0.6347075700759888\n",
      "\n",
      "Best val_accuracy So Far: 0.7037392258644104\n",
      "Total elapsed time: 00h 13m 02s\n"
     ]
    }
   ],
   "source": [
    "tuner.search(\n",
    "    x_train_clean,\n",
    "    y_train_clean,\n",
    "    validation_split = 0.8,\n",
    "    batch_size=124,\n",
    "    epochs=10,\n",
    "    callbacks=[tf.keras.callbacks.TensorBoard(\"./hyp_searches/coarse_2_search_bs124/tb_logs\")]\n",
    ")"
   ]
  },
  {
   "cell_type": "code",
   "execution_count": 29,
   "metadata": {},
   "outputs": [
    {
     "data": {
      "text/plain": [
       "{'num_layers': 6,\n",
       " 'reg_type': 'L1',\n",
       " 'reg_level': 0.001,\n",
       " 'act_fuc': 'elu',\n",
       " 'num_neurons_layer_0': 40,\n",
       " 'kernel_initializer': 'glorot_uniform',\n",
       " 'add_batchnorm': False,\n",
       " 'num_neurons_layer_1': 40,\n",
       " 'learning_rate': 0.01,\n",
       " 'num_neurons_layer_2': 20,\n",
       " 'num_neurons_layer_3': 40,\n",
       " 'num_neurons_layer_4': 320,\n",
       " 'num_neurons_layer_5': 40,\n",
       " 'num_neurons_layer_6': 80,\n",
       " 'num_neurons_layer_7': 320,\n",
       " 'num_neurons_layer_8': 40,\n",
       " 'num_neurons_layer_9': 20}"
      ]
     },
     "execution_count": 29,
     "metadata": {},
     "output_type": "execute_result"
    }
   ],
   "source": [
    "tuner.get_best_hyperparameters()[0].values"
   ]
  },
  {
   "cell_type": "code",
   "execution_count": 225,
   "metadata": {},
   "outputs": [],
   "source": [
    "def task1_search_model_coarse_3(hp):\n",
    "    ''' As per tensorboard, 10 layers aren't giving a significantly better performance. 4 and 6 number\n",
    "    of layers seem to be performing good. We don't want a complex model as it will overfit. \n",
    "    Hence, we can choose from 4 to 8 layers without the step set as 2. \n",
    "    \n",
    "    Batch-normalization is performing poorly. We can set it as false and \n",
    "    reduce the number of hyper-parameter combinations. \n",
    "    \n",
    "    For regularization, we can reduce the choices to L1 and L1L2 since they are the best parameters among the three\n",
    "    batch sizes from the previous hyperparameter tuning function. It can be seen in Tensorboard as well: L2 \n",
    "    regularization gives big differences between the training and validation accuracies, mostly underfittings.\n",
    "    \n",
    "    Same goes for the regularization level as well. 0.001 and 0.0001 give better performance. Shortlisting these two.\n",
    "    \n",
    "    As for the learning rate, 0.001 and 0.01 seem to be the best ones. 0.0001 will result in convergence more slowly.'''\n",
    "    model = tf.keras.models.Sequential()\n",
    "\n",
    "    model.add(tf.keras.layers.Input(shape=(12,)))\n",
    "\n",
    "    num_layers = hp.Int(\"num_layers\", min_value=4, max_value=8)\n",
    "    reg_type = hp.Choice(\"reg_type\", [\"L1\", \"L1L2\"])\n",
    "    reg_level = hp.Choice(\"reg_level\", [0.0001, 0.001])\n",
    "    \n",
    "    act_fuc = hp.Choice(\"act_fuc\", [\"relu\", \"elu\"])\n",
    "    \n",
    "    for i in range(num_layers):\n",
    "        neurons = hp.Int(f\"num_neurons_layer_{i}\", min_value=10, max_value=750, step=2, sampling='log')\n",
    "        reg = tf.keras.regularizers.L1(l1=reg_level) if reg_type == \"L1\" else tf.keras.regularizers.L1L2(l1=reg_level,\n",
    "                                                                                                        l2=reg_level)\n",
    "        \n",
    "        kernel_initializer = hp.Choice(\"kernel_initializer\", [\"glorot_normal\",\"glorot_uniform\"])\n",
    "        \n",
    "        model.add(tf.keras.layers.Dense(neurons, activation=act_fuc,\n",
    "                                        activity_regularizer = reg,\n",
    "                                        kernel_initializer=kernel_initializer,\n",
    "                                        bias_initializer=\"zeros\"))\n",
    "    \n",
    "    \n",
    "    model.add(tf.keras.layers.Dense(5, activation=\"softmax\"))\n",
    "    \n",
    "    lr = hp.Choice(\"learning_rate\", values=[0.01, 0.001])\n",
    "    \n",
    "    model.compile(\n",
    "    optimizer= tf.keras.optimizers.Adam(learning_rate=lr),\n",
    "    loss = \"categorical_crossentropy\",\n",
    "    metrics = [\"accuracy\"]\n",
    "    )\n",
    "    return model"
   ]
  },
  {
   "cell_type": "code",
   "execution_count": 226,
   "metadata": {},
   "outputs": [],
   "source": [
    "# finally, we can go ahead with a batch-size of 64 as it is neither too small not too big.\n",
    "# the three different batch-sizes aren't resulting in a big difference in the performance. \n",
    "\n",
    "# Furthermore, having a small batch-size can result in a capturing the noise while a larger batch size can lead to\n",
    "# convergence at a local minima and might not generalise well.\n",
    "tuner = kt.RandomSearch(task1_search_model_coarse_3,\n",
    "                        objective='val_accuracy',\n",
    "                        max_trials=60,\n",
    "                        seed=42,\n",
    "                        overwrite=True,\n",
    "                        directory=\"./hyp_searches/\",\n",
    "                        project_name=\"coarse_3_search_bs64\")"
   ]
  },
  {
   "cell_type": "code",
   "execution_count": null,
   "metadata": {},
   "outputs": [],
   "source": [
    "%tensorboard --logdir \"./hyp_searches/coarse_3_search_bs64\""
   ]
  },
  {
   "cell_type": "code",
   "execution_count": 227,
   "metadata": {},
   "outputs": [
    {
     "name": "stdout",
     "output_type": "stream",
     "text": [
      "Trial 60 Complete [00h 00m 24s]\n",
      "val_accuracy: 0.6970278024673462\n",
      "\n",
      "Best val_accuracy So Far: 0.7082135081291199\n",
      "Total elapsed time: 00h 24m 26s\n"
     ]
    }
   ],
   "source": [
    "tuner.search(\n",
    "    x_train_clean,\n",
    "    y_train_clean,\n",
    "    validation_split = 0.8,\n",
    "    batch_size=64,\n",
    "    epochs=10,\n",
    "    callbacks=[tf.keras.callbacks.TensorBoard(\"./hyp_searches/coarse_3_search_bs64/tb_logs\")]\n",
    ")"
   ]
  },
  {
   "cell_type": "code",
   "execution_count": 17,
   "metadata": {},
   "outputs": [
    {
     "name": "stderr",
     "output_type": "stream",
     "text": [
      "/Users/lakshya/Library/CloudStorage/OneDrive-Personal/ucc_course_material/sem_2/cs6421/cs6421_env/lib/python3.12/site-packages/keras/src/saving/saving_lib.py:757: UserWarning: Skipping variable loading for optimizer 'adam', because it has 2 variables whereas the saved optimizer has 30 variables. \n",
      "  saveable.load_own_variables(weights_store.get(inner_path))\n"
     ]
    },
    {
     "data": {
      "text/html": [
       "<pre style=\"white-space:pre;overflow-x:auto;line-height:normal;font-family:Menlo,'DejaVu Sans Mono',consolas,'Courier New',monospace\"><span style=\"font-weight: bold\">Model: \"sequential\"</span>\n",
       "</pre>\n"
      ],
      "text/plain": [
       "\u001b[1mModel: \"sequential\"\u001b[0m\n"
      ]
     },
     "metadata": {},
     "output_type": "display_data"
    },
    {
     "data": {
      "text/html": [
       "<pre style=\"white-space:pre;overflow-x:auto;line-height:normal;font-family:Menlo,'DejaVu Sans Mono',consolas,'Courier New',monospace\">┏━━━━━━━━━━━━━━━━━━━━━━━━━━━━━━━━━┳━━━━━━━━━━━━━━━━━━━━━━━━┳━━━━━━━━━━━━━━━┓\n",
       "┃<span style=\"font-weight: bold\"> Layer (type)                    </span>┃<span style=\"font-weight: bold\"> Output Shape           </span>┃<span style=\"font-weight: bold\">       Param # </span>┃\n",
       "┡━━━━━━━━━━━━━━━━━━━━━━━━━━━━━━━━━╇━━━━━━━━━━━━━━━━━━━━━━━━╇━━━━━━━━━━━━━━━┩\n",
       "│ dense (<span style=\"color: #0087ff; text-decoration-color: #0087ff\">Dense</span>)                   │ (<span style=\"color: #00d7ff; text-decoration-color: #00d7ff\">None</span>, <span style=\"color: #00af00; text-decoration-color: #00af00\">640</span>)            │         <span style=\"color: #00af00; text-decoration-color: #00af00\">8,320</span> │\n",
       "├─────────────────────────────────┼────────────────────────┼───────────────┤\n",
       "│ dense_1 (<span style=\"color: #0087ff; text-decoration-color: #0087ff\">Dense</span>)                 │ (<span style=\"color: #00d7ff; text-decoration-color: #00d7ff\">None</span>, <span style=\"color: #00af00; text-decoration-color: #00af00\">10</span>)             │         <span style=\"color: #00af00; text-decoration-color: #00af00\">6,410</span> │\n",
       "├─────────────────────────────────┼────────────────────────┼───────────────┤\n",
       "│ dense_2 (<span style=\"color: #0087ff; text-decoration-color: #0087ff\">Dense</span>)                 │ (<span style=\"color: #00d7ff; text-decoration-color: #00d7ff\">None</span>, <span style=\"color: #00af00; text-decoration-color: #00af00\">10</span>)             │           <span style=\"color: #00af00; text-decoration-color: #00af00\">110</span> │\n",
       "├─────────────────────────────────┼────────────────────────┼───────────────┤\n",
       "│ dense_3 (<span style=\"color: #0087ff; text-decoration-color: #0087ff\">Dense</span>)                 │ (<span style=\"color: #00d7ff; text-decoration-color: #00d7ff\">None</span>, <span style=\"color: #00af00; text-decoration-color: #00af00\">80</span>)             │           <span style=\"color: #00af00; text-decoration-color: #00af00\">880</span> │\n",
       "├─────────────────────────────────┼────────────────────────┼───────────────┤\n",
       "│ dense_4 (<span style=\"color: #0087ff; text-decoration-color: #0087ff\">Dense</span>)                 │ (<span style=\"color: #00d7ff; text-decoration-color: #00d7ff\">None</span>, <span style=\"color: #00af00; text-decoration-color: #00af00\">640</span>)            │        <span style=\"color: #00af00; text-decoration-color: #00af00\">51,840</span> │\n",
       "├─────────────────────────────────┼────────────────────────┼───────────────┤\n",
       "│ dense_5 (<span style=\"color: #0087ff; text-decoration-color: #0087ff\">Dense</span>)                 │ (<span style=\"color: #00d7ff; text-decoration-color: #00d7ff\">None</span>, <span style=\"color: #00af00; text-decoration-color: #00af00\">10</span>)             │         <span style=\"color: #00af00; text-decoration-color: #00af00\">6,410</span> │\n",
       "├─────────────────────────────────┼────────────────────────┼───────────────┤\n",
       "│ dense_6 (<span style=\"color: #0087ff; text-decoration-color: #0087ff\">Dense</span>)                 │ (<span style=\"color: #00d7ff; text-decoration-color: #00d7ff\">None</span>, <span style=\"color: #00af00; text-decoration-color: #00af00\">5</span>)              │            <span style=\"color: #00af00; text-decoration-color: #00af00\">55</span> │\n",
       "└─────────────────────────────────┴────────────────────────┴───────────────┘\n",
       "</pre>\n"
      ],
      "text/plain": [
       "┏━━━━━━━━━━━━━━━━━━━━━━━━━━━━━━━━━┳━━━━━━━━━━━━━━━━━━━━━━━━┳━━━━━━━━━━━━━━━┓\n",
       "┃\u001b[1m \u001b[0m\u001b[1mLayer (type)                   \u001b[0m\u001b[1m \u001b[0m┃\u001b[1m \u001b[0m\u001b[1mOutput Shape          \u001b[0m\u001b[1m \u001b[0m┃\u001b[1m \u001b[0m\u001b[1m      Param #\u001b[0m\u001b[1m \u001b[0m┃\n",
       "┡━━━━━━━━━━━━━━━━━━━━━━━━━━━━━━━━━╇━━━━━━━━━━━━━━━━━━━━━━━━╇━━━━━━━━━━━━━━━┩\n",
       "│ dense (\u001b[38;5;33mDense\u001b[0m)                   │ (\u001b[38;5;45mNone\u001b[0m, \u001b[38;5;34m640\u001b[0m)            │         \u001b[38;5;34m8,320\u001b[0m │\n",
       "├─────────────────────────────────┼────────────────────────┼───────────────┤\n",
       "│ dense_1 (\u001b[38;5;33mDense\u001b[0m)                 │ (\u001b[38;5;45mNone\u001b[0m, \u001b[38;5;34m10\u001b[0m)             │         \u001b[38;5;34m6,410\u001b[0m │\n",
       "├─────────────────────────────────┼────────────────────────┼───────────────┤\n",
       "│ dense_2 (\u001b[38;5;33mDense\u001b[0m)                 │ (\u001b[38;5;45mNone\u001b[0m, \u001b[38;5;34m10\u001b[0m)             │           \u001b[38;5;34m110\u001b[0m │\n",
       "├─────────────────────────────────┼────────────────────────┼───────────────┤\n",
       "│ dense_3 (\u001b[38;5;33mDense\u001b[0m)                 │ (\u001b[38;5;45mNone\u001b[0m, \u001b[38;5;34m80\u001b[0m)             │           \u001b[38;5;34m880\u001b[0m │\n",
       "├─────────────────────────────────┼────────────────────────┼───────────────┤\n",
       "│ dense_4 (\u001b[38;5;33mDense\u001b[0m)                 │ (\u001b[38;5;45mNone\u001b[0m, \u001b[38;5;34m640\u001b[0m)            │        \u001b[38;5;34m51,840\u001b[0m │\n",
       "├─────────────────────────────────┼────────────────────────┼───────────────┤\n",
       "│ dense_5 (\u001b[38;5;33mDense\u001b[0m)                 │ (\u001b[38;5;45mNone\u001b[0m, \u001b[38;5;34m10\u001b[0m)             │         \u001b[38;5;34m6,410\u001b[0m │\n",
       "├─────────────────────────────────┼────────────────────────┼───────────────┤\n",
       "│ dense_6 (\u001b[38;5;33mDense\u001b[0m)                 │ (\u001b[38;5;45mNone\u001b[0m, \u001b[38;5;34m5\u001b[0m)              │            \u001b[38;5;34m55\u001b[0m │\n",
       "└─────────────────────────────────┴────────────────────────┴───────────────┘\n"
      ]
     },
     "metadata": {},
     "output_type": "display_data"
    },
    {
     "data": {
      "text/html": [
       "<pre style=\"white-space:pre;overflow-x:auto;line-height:normal;font-family:Menlo,'DejaVu Sans Mono',consolas,'Courier New',monospace\"><span style=\"font-weight: bold\"> Total params: </span><span style=\"color: #00af00; text-decoration-color: #00af00\">74,025</span> (289.16 KB)\n",
       "</pre>\n"
      ],
      "text/plain": [
       "\u001b[1m Total params: \u001b[0m\u001b[38;5;34m74,025\u001b[0m (289.16 KB)\n"
      ]
     },
     "metadata": {},
     "output_type": "display_data"
    },
    {
     "data": {
      "text/html": [
       "<pre style=\"white-space:pre;overflow-x:auto;line-height:normal;font-family:Menlo,'DejaVu Sans Mono',consolas,'Courier New',monospace\"><span style=\"font-weight: bold\"> Trainable params: </span><span style=\"color: #00af00; text-decoration-color: #00af00\">74,025</span> (289.16 KB)\n",
       "</pre>\n"
      ],
      "text/plain": [
       "\u001b[1m Trainable params: \u001b[0m\u001b[38;5;34m74,025\u001b[0m (289.16 KB)\n"
      ]
     },
     "metadata": {},
     "output_type": "display_data"
    },
    {
     "data": {
      "text/html": [
       "<pre style=\"white-space:pre;overflow-x:auto;line-height:normal;font-family:Menlo,'DejaVu Sans Mono',consolas,'Courier New',monospace\"><span style=\"font-weight: bold\"> Non-trainable params: </span><span style=\"color: #00af00; text-decoration-color: #00af00\">0</span> (0.00 B)\n",
       "</pre>\n"
      ],
      "text/plain": [
       "\u001b[1m Non-trainable params: \u001b[0m\u001b[38;5;34m0\u001b[0m (0.00 B)\n"
      ]
     },
     "metadata": {},
     "output_type": "display_data"
    }
   ],
   "source": [
    "tuner.get_best_models()[0].summary()"
   ]
  },
  {
   "cell_type": "code",
   "execution_count": 228,
   "metadata": {},
   "outputs": [
    {
     "data": {
      "text/plain": [
       "{'num_layers': 4,\n",
       " 'reg_type': 'L1',\n",
       " 'reg_level': 0.0001,\n",
       " 'act_fuc': 'elu',\n",
       " 'num_neurons_layer_0': 320,\n",
       " 'kernel_initializer': 'glorot_normal',\n",
       " 'num_neurons_layer_1': 80,\n",
       " 'num_neurons_layer_2': 40,\n",
       " 'num_neurons_layer_3': 20,\n",
       " 'learning_rate': 0.01,\n",
       " 'num_neurons_layer_4': 160,\n",
       " 'num_neurons_layer_5': 10,\n",
       " 'num_neurons_layer_6': 640,\n",
       " 'num_neurons_layer_7': 160}"
      ]
     },
     "execution_count": 228,
     "metadata": {},
     "output_type": "execute_result"
    }
   ],
   "source": [
    "best_params = tuner.get_best_hyperparameters()[0]\n",
    "best_params.values"
   ]
  },
  {
   "cell_type": "markdown",
   "metadata": {
    "id": "xPip9VYMFXQ-"
   },
   "source": [
    "#### Evaluate\n",
    "\n",
    "It is good practice when tuning these hyper-parameters to not use the test dataset for tuning - we will perform a separate split on our training data, and evaluate on the test dataset post-optimization\n",
    "\n",
    "\n",
    "Once you are happy, define a Sequential model using the best parametrs extracted above.\n",
    "\n",
    "Train it for 20 epochs (or fewer if you wish) and evalue its performance on the test dataset."
   ]
  },
  {
   "cell_type": "code",
   "execution_count": 229,
   "metadata": {
    "id": "NU6VxMeUPrTr"
   },
   "outputs": [
    {
     "data": {
      "text/html": [
       "<pre style=\"white-space:pre;overflow-x:auto;line-height:normal;font-family:Menlo,'DejaVu Sans Mono',consolas,'Courier New',monospace\"><span style=\"font-weight: bold\">Model: \"sequential_1\"</span>\n",
       "</pre>\n"
      ],
      "text/plain": [
       "\u001b[1mModel: \"sequential_1\"\u001b[0m\n"
      ]
     },
     "metadata": {},
     "output_type": "display_data"
    },
    {
     "data": {
      "text/html": [
       "<pre style=\"white-space:pre;overflow-x:auto;line-height:normal;font-family:Menlo,'DejaVu Sans Mono',consolas,'Courier New',monospace\">┏━━━━━━━━━━━━━━━━━━━━━━━━━━━━━━━━━┳━━━━━━━━━━━━━━━━━━━━━━━━┳━━━━━━━━━━━━━━━┓\n",
       "┃<span style=\"font-weight: bold\"> Layer (type)                    </span>┃<span style=\"font-weight: bold\"> Output Shape           </span>┃<span style=\"font-weight: bold\">       Param # </span>┃\n",
       "┡━━━━━━━━━━━━━━━━━━━━━━━━━━━━━━━━━╇━━━━━━━━━━━━━━━━━━━━━━━━╇━━━━━━━━━━━━━━━┩\n",
       "│ dense_7 (<span style=\"color: #0087ff; text-decoration-color: #0087ff\">Dense</span>)                 │ (<span style=\"color: #00d7ff; text-decoration-color: #00d7ff\">None</span>, <span style=\"color: #00af00; text-decoration-color: #00af00\">320</span>)            │         <span style=\"color: #00af00; text-decoration-color: #00af00\">4,160</span> │\n",
       "├─────────────────────────────────┼────────────────────────┼───────────────┤\n",
       "│ dense_8 (<span style=\"color: #0087ff; text-decoration-color: #0087ff\">Dense</span>)                 │ (<span style=\"color: #00d7ff; text-decoration-color: #00d7ff\">None</span>, <span style=\"color: #00af00; text-decoration-color: #00af00\">80</span>)             │        <span style=\"color: #00af00; text-decoration-color: #00af00\">25,680</span> │\n",
       "├─────────────────────────────────┼────────────────────────┼───────────────┤\n",
       "│ dense_9 (<span style=\"color: #0087ff; text-decoration-color: #0087ff\">Dense</span>)                 │ (<span style=\"color: #00d7ff; text-decoration-color: #00d7ff\">None</span>, <span style=\"color: #00af00; text-decoration-color: #00af00\">40</span>)             │         <span style=\"color: #00af00; text-decoration-color: #00af00\">3,240</span> │\n",
       "├─────────────────────────────────┼────────────────────────┼───────────────┤\n",
       "│ dense_10 (<span style=\"color: #0087ff; text-decoration-color: #0087ff\">Dense</span>)                │ (<span style=\"color: #00d7ff; text-decoration-color: #00d7ff\">None</span>, <span style=\"color: #00af00; text-decoration-color: #00af00\">20</span>)             │           <span style=\"color: #00af00; text-decoration-color: #00af00\">820</span> │\n",
       "├─────────────────────────────────┼────────────────────────┼───────────────┤\n",
       "│ dense_11 (<span style=\"color: #0087ff; text-decoration-color: #0087ff\">Dense</span>)                │ (<span style=\"color: #00d7ff; text-decoration-color: #00d7ff\">None</span>, <span style=\"color: #00af00; text-decoration-color: #00af00\">5</span>)              │           <span style=\"color: #00af00; text-decoration-color: #00af00\">105</span> │\n",
       "└─────────────────────────────────┴────────────────────────┴───────────────┘\n",
       "</pre>\n"
      ],
      "text/plain": [
       "┏━━━━━━━━━━━━━━━━━━━━━━━━━━━━━━━━━┳━━━━━━━━━━━━━━━━━━━━━━━━┳━━━━━━━━━━━━━━━┓\n",
       "┃\u001b[1m \u001b[0m\u001b[1mLayer (type)                   \u001b[0m\u001b[1m \u001b[0m┃\u001b[1m \u001b[0m\u001b[1mOutput Shape          \u001b[0m\u001b[1m \u001b[0m┃\u001b[1m \u001b[0m\u001b[1m      Param #\u001b[0m\u001b[1m \u001b[0m┃\n",
       "┡━━━━━━━━━━━━━━━━━━━━━━━━━━━━━━━━━╇━━━━━━━━━━━━━━━━━━━━━━━━╇━━━━━━━━━━━━━━━┩\n",
       "│ dense_7 (\u001b[38;5;33mDense\u001b[0m)                 │ (\u001b[38;5;45mNone\u001b[0m, \u001b[38;5;34m320\u001b[0m)            │         \u001b[38;5;34m4,160\u001b[0m │\n",
       "├─────────────────────────────────┼────────────────────────┼───────────────┤\n",
       "│ dense_8 (\u001b[38;5;33mDense\u001b[0m)                 │ (\u001b[38;5;45mNone\u001b[0m, \u001b[38;5;34m80\u001b[0m)             │        \u001b[38;5;34m25,680\u001b[0m │\n",
       "├─────────────────────────────────┼────────────────────────┼───────────────┤\n",
       "│ dense_9 (\u001b[38;5;33mDense\u001b[0m)                 │ (\u001b[38;5;45mNone\u001b[0m, \u001b[38;5;34m40\u001b[0m)             │         \u001b[38;5;34m3,240\u001b[0m │\n",
       "├─────────────────────────────────┼────────────────────────┼───────────────┤\n",
       "│ dense_10 (\u001b[38;5;33mDense\u001b[0m)                │ (\u001b[38;5;45mNone\u001b[0m, \u001b[38;5;34m20\u001b[0m)             │           \u001b[38;5;34m820\u001b[0m │\n",
       "├─────────────────────────────────┼────────────────────────┼───────────────┤\n",
       "│ dense_11 (\u001b[38;5;33mDense\u001b[0m)                │ (\u001b[38;5;45mNone\u001b[0m, \u001b[38;5;34m5\u001b[0m)              │           \u001b[38;5;34m105\u001b[0m │\n",
       "└─────────────────────────────────┴────────────────────────┴───────────────┘\n"
      ]
     },
     "metadata": {},
     "output_type": "display_data"
    },
    {
     "data": {
      "text/html": [
       "<pre style=\"white-space:pre;overflow-x:auto;line-height:normal;font-family:Menlo,'DejaVu Sans Mono',consolas,'Courier New',monospace\"><span style=\"font-weight: bold\"> Total params: </span><span style=\"color: #00af00; text-decoration-color: #00af00\">34,005</span> (132.83 KB)\n",
       "</pre>\n"
      ],
      "text/plain": [
       "\u001b[1m Total params: \u001b[0m\u001b[38;5;34m34,005\u001b[0m (132.83 KB)\n"
      ]
     },
     "metadata": {},
     "output_type": "display_data"
    },
    {
     "data": {
      "text/html": [
       "<pre style=\"white-space:pre;overflow-x:auto;line-height:normal;font-family:Menlo,'DejaVu Sans Mono',consolas,'Courier New',monospace\"><span style=\"font-weight: bold\"> Trainable params: </span><span style=\"color: #00af00; text-decoration-color: #00af00\">34,005</span> (132.83 KB)\n",
       "</pre>\n"
      ],
      "text/plain": [
       "\u001b[1m Trainable params: \u001b[0m\u001b[38;5;34m34,005\u001b[0m (132.83 KB)\n"
      ]
     },
     "metadata": {},
     "output_type": "display_data"
    },
    {
     "data": {
      "text/html": [
       "<pre style=\"white-space:pre;overflow-x:auto;line-height:normal;font-family:Menlo,'DejaVu Sans Mono',consolas,'Courier New',monospace\"><span style=\"font-weight: bold\"> Non-trainable params: </span><span style=\"color: #00af00; text-decoration-color: #00af00\">0</span> (0.00 B)\n",
       "</pre>\n"
      ],
      "text/plain": [
       "\u001b[1m Non-trainable params: \u001b[0m\u001b[38;5;34m0\u001b[0m (0.00 B)\n"
      ]
     },
     "metadata": {},
     "output_type": "display_data"
    }
   ],
   "source": [
    "model = tuner.hypermodel.build(best_params)\n",
    "model.summary()"
   ]
  },
  {
   "cell_type": "code",
   "execution_count": 230,
   "metadata": {},
   "outputs": [
    {
     "name": "stdout",
     "output_type": "stream",
     "text": [
      "Epoch 1/20\n",
      "\u001b[1m62/62\u001b[0m \u001b[32m━━━━━━━━━━━━━━━━━━━━\u001b[0m\u001b[37m\u001b[0m \u001b[1m2s\u001b[0m 4ms/step - accuracy: 0.6204 - loss: 1.2203 - val_accuracy: 0.6565 - val_loss: 0.9805\n",
      "Epoch 2/20\n",
      "\u001b[1m62/62\u001b[0m \u001b[32m━━━━━━━━━━━━━━━━━━━━\u001b[0m\u001b[37m\u001b[0m \u001b[1m0s\u001b[0m 2ms/step - accuracy: 0.6898 - loss: 0.8577 - val_accuracy: 0.6667 - val_loss: 1.0064\n",
      "Epoch 3/20\n",
      "\u001b[1m62/62\u001b[0m \u001b[32m━━━━━━━━━━━━━━━━━━━━\u001b[0m\u001b[37m\u001b[0m \u001b[1m0s\u001b[0m 2ms/step - accuracy: 0.6939 - loss: 0.8402 - val_accuracy: 0.6435 - val_loss: 0.9466\n",
      "Epoch 4/20\n",
      "\u001b[1m62/62\u001b[0m \u001b[32m━━━━━━━━━━━━━━━━━━━━\u001b[0m\u001b[37m\u001b[0m \u001b[1m0s\u001b[0m 1ms/step - accuracy: 0.6855 - loss: 0.8369 - val_accuracy: 0.6739 - val_loss: 0.8663\n",
      "Epoch 5/20\n",
      "\u001b[1m62/62\u001b[0m \u001b[32m━━━━━━━━━━━━━━━━━━━━\u001b[0m\u001b[37m\u001b[0m \u001b[1m0s\u001b[0m 1ms/step - accuracy: 0.6924 - loss: 0.7979 - val_accuracy: 0.6797 - val_loss: 0.8255\n",
      "Epoch 6/20\n",
      "\u001b[1m62/62\u001b[0m \u001b[32m━━━━━━━━━━━━━━━━━━━━\u001b[0m\u001b[37m\u001b[0m \u001b[1m0s\u001b[0m 2ms/step - accuracy: 0.7145 - loss: 0.7768 - val_accuracy: 0.6768 - val_loss: 0.8222\n",
      "Epoch 7/20\n",
      "\u001b[1m62/62\u001b[0m \u001b[32m━━━━━━━━━━━━━━━━━━━━\u001b[0m\u001b[37m\u001b[0m \u001b[1m0s\u001b[0m 2ms/step - accuracy: 0.7017 - loss: 0.7766 - val_accuracy: 0.6304 - val_loss: 0.9016\n",
      "Epoch 8/20\n",
      "\u001b[1m62/62\u001b[0m \u001b[32m━━━━━━━━━━━━━━━━━━━━\u001b[0m\u001b[37m\u001b[0m \u001b[1m0s\u001b[0m 1ms/step - accuracy: 0.6999 - loss: 0.7911 - val_accuracy: 0.6841 - val_loss: 0.8174\n",
      "Epoch 9/20\n",
      "\u001b[1m62/62\u001b[0m \u001b[32m━━━━━━━━━━━━━━━━━━━━\u001b[0m\u001b[37m\u001b[0m \u001b[1m0s\u001b[0m 1ms/step - accuracy: 0.7069 - loss: 0.7862 - val_accuracy: 0.6957 - val_loss: 0.7897\n",
      "Epoch 10/20\n",
      "\u001b[1m62/62\u001b[0m \u001b[32m━━━━━━━━━━━━━━━━━━━━\u001b[0m\u001b[37m\u001b[0m \u001b[1m0s\u001b[0m 1ms/step - accuracy: 0.7072 - loss: 0.7739 - val_accuracy: 0.6957 - val_loss: 0.7902\n",
      "Epoch 11/20\n",
      "\u001b[1m62/62\u001b[0m \u001b[32m━━━━━━━━━━━━━━━━━━━━\u001b[0m\u001b[37m\u001b[0m \u001b[1m0s\u001b[0m 1ms/step - accuracy: 0.7049 - loss: 0.7694 - val_accuracy: 0.6986 - val_loss: 0.8035\n",
      "Epoch 12/20\n",
      "\u001b[1m62/62\u001b[0m \u001b[32m━━━━━━━━━━━━━━━━━━━━\u001b[0m\u001b[37m\u001b[0m \u001b[1m0s\u001b[0m 2ms/step - accuracy: 0.7138 - loss: 0.8108 - val_accuracy: 0.6638 - val_loss: 0.9186\n",
      "Epoch 13/20\n",
      "\u001b[1m62/62\u001b[0m \u001b[32m━━━━━━━━━━━━━━━━━━━━\u001b[0m\u001b[37m\u001b[0m \u001b[1m0s\u001b[0m 2ms/step - accuracy: 0.7078 - loss: 0.7724 - val_accuracy: 0.6957 - val_loss: 0.7576\n",
      "Epoch 14/20\n",
      "\u001b[1m62/62\u001b[0m \u001b[32m━━━━━━━━━━━━━━━━━━━━\u001b[0m\u001b[37m\u001b[0m \u001b[1m0s\u001b[0m 3ms/step - accuracy: 0.7173 - loss: 0.7272 - val_accuracy: 0.7000 - val_loss: 0.7575\n",
      "Epoch 15/20\n",
      "\u001b[1m62/62\u001b[0m \u001b[32m━━━━━━━━━━━━━━━━━━━━\u001b[0m\u001b[37m\u001b[0m \u001b[1m0s\u001b[0m 2ms/step - accuracy: 0.7083 - loss: 0.7555 - val_accuracy: 0.7116 - val_loss: 0.7794\n",
      "Epoch 16/20\n",
      "\u001b[1m62/62\u001b[0m \u001b[32m━━━━━━━━━━━━━━━━━━━━\u001b[0m\u001b[37m\u001b[0m \u001b[1m0s\u001b[0m 1ms/step - accuracy: 0.7039 - loss: 0.7487 - val_accuracy: 0.6696 - val_loss: 0.7897\n",
      "Epoch 17/20\n",
      "\u001b[1m62/62\u001b[0m \u001b[32m━━━━━━━━━━━━━━━━━━━━\u001b[0m\u001b[37m\u001b[0m \u001b[1m0s\u001b[0m 1ms/step - accuracy: 0.7158 - loss: 0.7340 - val_accuracy: 0.6855 - val_loss: 0.8980\n",
      "Epoch 18/20\n",
      "\u001b[1m62/62\u001b[0m \u001b[32m━━━━━━━━━━━━━━━━━━━━\u001b[0m\u001b[37m\u001b[0m \u001b[1m0s\u001b[0m 1ms/step - accuracy: 0.7127 - loss: 0.7636 - val_accuracy: 0.6913 - val_loss: 0.7907\n",
      "Epoch 19/20\n",
      "\u001b[1m62/62\u001b[0m \u001b[32m━━━━━━━━━━━━━━━━━━━━\u001b[0m\u001b[37m\u001b[0m \u001b[1m0s\u001b[0m 1ms/step - accuracy: 0.7159 - loss: 0.7366 - val_accuracy: 0.6942 - val_loss: 0.8250\n",
      "Epoch 20/20\n",
      "\u001b[1m62/62\u001b[0m \u001b[32m━━━━━━━━━━━━━━━━━━━━\u001b[0m\u001b[37m\u001b[0m \u001b[1m0s\u001b[0m 1ms/step - accuracy: 0.7198 - loss: 0.7264 - val_accuracy: 0.7072 - val_loss: 0.7434\n"
     ]
    }
   ],
   "source": [
    "history = model.fit(\n",
    "        x_train_clean,\n",
    "        y_train_clean,\n",
    "        epochs=20,\n",
    "        batch_size=64,\n",
    "        validation_data=(x_test_clean,y_test_clean)\n",
    ")"
   ]
  },
  {
   "cell_type": "code",
   "execution_count": 231,
   "metadata": {},
   "outputs": [],
   "source": [
    "model.save(\"./tas1_model.keras\")"
   ]
  },
  {
   "cell_type": "code",
   "execution_count": 232,
   "metadata": {},
   "outputs": [
    {
     "name": "stdout",
     "output_type": "stream",
     "text": [
      "\u001b[1m22/22\u001b[0m \u001b[32m━━━━━━━━━━━━━━━━━━━━\u001b[0m\u001b[37m\u001b[0m \u001b[1m0s\u001b[0m 1ms/step - accuracy: 0.7306 - loss: 0.6970 \n"
     ]
    },
    {
     "data": {
      "text/plain": [
       "[0.7141361236572266, 0.7072463631629944]"
      ]
     },
     "execution_count": 232,
     "metadata": {},
     "output_type": "execute_result"
    }
   ],
   "source": [
    "model.evaluate(x_test_clean, y_test_clean)"
   ]
  },
  {
   "cell_type": "code",
   "execution_count": 250,
   "metadata": {},
   "outputs": [
    {
     "data": {
      "image/png": "[encoded data removed]",
      "text/plain": [
       "<Figure size 640x480 with 1 Axes>"
      ]
     },
     "metadata": {},
     "output_type": "display_data"
    }
   ],
   "source": [
    "# plotting the training and validation loss\n",
    "plt.plot(history.history['loss'])\n",
    "plt.plot(history.history['val_loss'])\n",
    "plt.xlabel('epoch')\n",
    "plt.ylabel('loss')\n",
    "plt.legend(['training', 'validation'], loc='upper left')\n",
    "plt.title('Task1 Model loss')\n",
    "plt.show()"
   ]
  },
  {
   "cell_type": "code",
   "execution_count": 251,
   "metadata": {},
   "outputs": [
    {
     "data": {
      "image/png": "[encoded data removed]",
      "text/plain": [
       "<Figure size 640x480 with 1 Axes>"
      ]
     },
     "metadata": {},
     "output_type": "display_data"
    }
   ],
   "source": [
    "# plotting the training and validation accuracy\n",
    "plt.plot(history.history['accuracy'])\n",
    "plt.plot(history.history['val_accuracy'])\n",
    "plt.xlabel('epoch')\n",
    "plt.ylabel('accuracy')\n",
    "plt.legend(['training', 'validation'], loc='upper left')\n",
    "plt.title('Task1 Model accuracy')\n",
    "plt.show()"
   ]
  },
  {
   "cell_type": "code",
   "execution_count": 269,
   "metadata": {},
   "outputs": [
    {
     "name": "stdout",
     "output_type": "stream",
     "text": [
      "\u001b[1m22/22\u001b[0m \u001b[32m━━━━━━━━━━━━━━━━━━━━\u001b[0m\u001b[37m\u001b[0m \u001b[1m0s\u001b[0m 2ms/step \n",
      "Confusion matrix for the test dataset: \n",
      " [[  0   0   0   1   0]\n",
      " [  0   0   0   5   0]\n",
      " [  0   0 381  32   2]\n",
      " [  0   0 101 100   5]\n",
      " [  0   0  11  45   7]]\n"
     ]
    }
   ],
   "source": [
    "# creating a confusion matrix to see the prediction performance\n",
    "from sklearn.metrics import confusion_matrix\n",
    "predicted_y = model.predict(x_test_clean)\n",
    "# converting it back to the original y values\n",
    "predicted_y = tf.math.argmax(predicted_y, axis=1) + 1\n",
    "print(\"Confusion matrix for the test dataset: \\n\", confusion_matrix(y_true=y_test, y_pred=predicted_y))\n",
    "\n",
    "'''class 1 and 2 aren't being correctly predicted at all because their values are quite less when compared to the other \n",
    "classes. Class 3 is being predicted correctly the most because it has the highes number of values in the training data\n",
    "(63%. I have calculated this value in task 2). Class 4 is being incorrectly classified has class 3 more number of\n",
    "times than being correctly classified. Class 5 is also being classified mostly as class 4 and class 3.'''"
   ]
  },
  {
   "cell_type": "code",
   "execution_count": 268,
   "metadata": {},
   "outputs": [
    {
     "name": "stdout",
     "output_type": "stream",
     "text": [
      "Proportion of Y classes in the testing dataset: \n",
      " {1: 0.14, 2: 0.72, 3: 60.14, 4: 29.86, 5: 9.13}\n",
      "Proportion of Y classes in the training dataset: \n",
      " {1: 0.13, 2: 0.69, 3: 62.92, 4: 26.75, 5: 9.51}\n"
     ]
    }
   ],
   "source": [
    "class_counts = {int(_class): 0 for _class in np.unique(y_test)}\n",
    "for value in y_test:\n",
    "    class_counts[value] += 1\n",
    "class_counts = {_class: round(count/len(y_test) * 100, 2) for _class, count in class_counts.items()}\n",
    "print(\"Proportion of Y classes in the testing dataset: \\n\", class_counts)\n",
    "\n",
    "class_counts = {int(_class): 0 for _class in np.unique(y_train).astype(int)}\n",
    "for value in y_train:\n",
    "    class_counts[value] += 1\n",
    "class_counts = {_class: round(count/len(y_train) * 100, 2) for _class, count in class_counts.items()}\n",
    "print(\"Proportion of Y classes in the training dataset: \\n\", class_counts)"
   ]
  },
  {
   "cell_type": "markdown",
   "metadata": {
    "id": "sOwGaC3IVnYq"
   },
   "source": [
    "### Discussion\n",
    "\n",
    "Explain, in a **short paragraph**\n",
    "\n",
    "1. Some key observations you made in the hyper-parameter tuning.\n",
    "2. If the evalutation on the test datset gave the results you expected, and why"
   ]
  },
  {
   "cell_type": "code",
   "execution_count": null,
   "metadata": {
    "id": "cnlQmCjbVnRO"
   },
   "outputs": [],
   "source": [
    "task1_explanation = '''\n",
    "1) HYPER-PARAMETER TUNING OBSERVATIONS:\n",
    "Since no features have any negative values, sigmoid function isn't really required as a choice of the activation\n",
    "function. Moreover, it's not zero-centric and can lead to saturation for higher positive values. Hence, ReLU and eLU\n",
    "are the better choices.\n",
    "All the below mentioned points are based on checking the tensorboard dashboard:\n",
    "1. For all the three different batch-size searches, the kernel initializer is giving better performance with uniform\n",
    "and normal distributions rather than 0 initial values. \n",
    "2. The bias when set to 1 can also be seen to overfit the data as there were big differences between the \n",
    "training and validation accuracies. Hence, it can be initialised as 0\n",
    "3. 10 layers aren't giving a significantly better performance. 4 and 6 number of layers seem to be performing good. \n",
    "We don't want a complex model as it will overfit. Hence, we can choose from 4 to 8 layers without the step set as 2.\n",
    "In the end 4 layers seem to give the best performance.\n",
    "4. For regularization, we can reduce the choices to L1 and L1L2 since they are the best parameters among the three\n",
    " batch sizes from the previous hyperparameter tuning function. It can be seen in Tensorboard as well: L2 \n",
    " regularization gives big differences between the training and validation accuracies, mostly underfittings.\n",
    "5. Same goes for the regularization level as well. 0.001 and 0.0001 give better performance. Shortlisting these two.\n",
    "6. As for the learning rate, 0.001 and 0.01 seem to be the best ones. 0.0001 will result in convergence more slowly.\n",
    "\n",
    "2) TEST DATASET EVALUATION:\n",
    "The model's training accuracy is 73% and the testing accuracy is 70.7%. The model is performing almost the same on \n",
    "training and testing dataset. This is because the distribution of the y classes is almost equal in both the training\n",
    "and testing dataset. Most values are being classified as either class 3 or class 4 because they occupy the highest\n",
    "amount of proportion in the dataset (around 60% of class 3 and around 28% of class 4 in both training and testing\n",
    "datasets). This accuracy seems to be expected because of the highly skewed distribution of classes. The model's loss\n",
    "is quickly minimized when it correctly detects class 3 and class 4 and hence, it learns to mostly detect these two\n",
    "classes. As a result, all other classes are detected as class 3 and class 4 a lot of times. \n",
    "'''"
   ]
  },
  {
   "cell_type": "markdown",
   "metadata": {
    "id": "Ae1uZhOxzgKH"
   },
   "source": [
    "## Task 2\n",
    "\n",
    "Now, consider that unlike our image labels in the MNIST problems, the labels here are in fact ordinal data, existing on a discrete scale from 1-5.\n",
    "\n",
    "### Re-process The Label Data to Prepare for a model that will predict a single value\n",
    "\n",
    "Instead of one-hot encoding, now we must scale the y_train values (from [1,5]) to be between [0,1]"
   ]
  },
  {
   "cell_type": "code",
   "execution_count": 274,
   "metadata": {
    "id": "ndpRs2S7WpHl"
   },
   "outputs": [],
   "source": [
    "y_train_clean = (y_train-y_train.min(axis=0))/y_train.max(axis=0)\n",
    "y_test_clean = (y_test-y_train.min(axis=0))/y_train.max(axis=0)"
   ]
  },
  {
   "cell_type": "markdown",
   "metadata": {
    "id": "uTmtfkcA-vHP"
   },
   "source": [
    "### Define a Custom Accruacy Function\n",
    "\n",
    "Since our model predicts a single scalar value to predict discrete ordinal classes, TensorFlow cannot directly assign a class to a prediction itself.\n",
    "\n",
    "The loss can still be computed as normal, but it means that we will need to define the accuracy metric ourselves."
   ]
  },
  {
   "cell_type": "markdown",
   "metadata": {
    "id": "T64p5nTaODT-"
   },
   "source": [
    "\\begin{equation}\n",
    "  f_\\text{acc}(y_\\text{true},y_\\text{pred})=   \n",
    "  \\begin{cases}\n",
    "  1& \\text{if}\\; round( 5* y_\\text{true})=round( 5* y_\\text{pred}) \\\\\n",
    "  0& \\text{otherwise}\n",
    "\\end{cases}\n",
    "\\end{equation}\n",
    "\n",
    "Hint: use the tf.math.round() and tf.equal()\n",
    "function\n"
   ]
  },
  {
   "cell_type": "code",
   "execution_count": 276,
   "metadata": {
    "id": "SNKFWP88_NCZ"
   },
   "outputs": [],
   "source": [
    "def accuracy(y_true, y_pred):\n",
    "    '''As per the Keras documentation, input tensors will be of shape (batch_size, 1). \n",
    "    Custom metric function should return a value of the shape (batch_size, ), i.e., one value for each \n",
    "    sample in the input batch. Hence, using the reshape function to remove the last dimension of 1 in our case'''\n",
    "    return tf.reshape(tf.cast(tf.math.round(5*y_true) == tf.math.round(5*y_pred), tf.float32), [-1])\n",
    "\n",
    "# an ordinal loss function that penalizes bigger differences more\n",
    "def ordinal_loss(y_true, y_pred):\n",
    "    return tf.reduce_mean(tf.abs(y_true - y_pred) ** 2, axis=-1)"
   ]
  },
  {
   "cell_type": "markdown",
   "metadata": {
    "id": "U6YatDNb0KZe"
   },
   "source": [
    "### Optimize the hyper-parameters Similarly To task 1\n",
    "\n",
    "You do not start from scratch, use a range of hyper-parameters that are close to the optimal values found in task 1.\n",
    "\n",
    "\n",
    "**REMEMBER** that you must change the **output layer** from 12 to 1 neuron, and change the **loss function**. Also, think about what activation function is most appropiate for this output layer."
   ]
  },
  {
   "cell_type": "code",
   "execution_count": 90,
   "metadata": {
    "id": "nCVnK2qpamCK"
   },
   "outputs": [],
   "source": [
    "def task2_search_model_coarse(hp):\n",
    "    ''' we can use a sigmoid function for our output layer because we are looking for continuous values\n",
    "    from 0 to 1. \n",
    "    The RMSE function defined above can be used as the loss function since we will get continuous values and\n",
    "    we can treat it like regression.\n",
    "    \n",
    "    This time I will try using batch normalization after every alternate layer because our network is not too big.\n",
    "    \n",
    "    Taking the regularization values from the previous task's latest function.'''\n",
    "    model = tf.keras.models.Sequential()\n",
    "    \n",
    "    model.add(tf.keras.layers.Input(shape=(12,)))\n",
    "    \n",
    "    num_layers = hp.Int(\"num_layers\", min_value=2, max_value=10, step=2)\n",
    "    reg_type = hp.Choice(\"reg_type\", [\"L1\", \"L2\", \"L1L2\"])\n",
    "    reg_level = hp.Choice(\"reg_level\", [0.0001, 0.001])\n",
    "    \n",
    "    act_fuc = hp.Choice(\"act_fuc\", [\"relu\", \"elu\"])\n",
    "    add_batchnorm = hp.Boolean(\"add_batchnorm\") \n",
    "    \n",
    "    for i in range(num_layers):\n",
    "        neurons = hp.Int(f\"num_neurons_layer_{i}\", min_value=10, max_value=750, step=2, sampling='log')\n",
    "        \n",
    "        if reg_type == \"L1\":\n",
    "            reg = tf.keras.regularizers.L1(l1=reg_level)\n",
    "        elif reg_type == \"L2\":\n",
    "            reg = tf.keras.regularizers.L2(l2=reg_level)\n",
    "        else:\n",
    "            reg = tf.keras.regularizers.L1L2(l1=reg_level, l2=reg_level)\n",
    "        \n",
    "        kernel_initializer = hp.Choice(\"kernel_initializer\", [\"glorot_normal\",\"glorot_uniform\"])        \n",
    "        model.add(tf.keras.layers.Dense(neurons, activation=act_fuc,\n",
    "                                        activity_regularizer = reg,\n",
    "                                        kernel_initializer=kernel_initializer,\n",
    "                                        bias_initializer=\"zeros\"))\n",
    "        \n",
    "        # batch norm after every alternate layer\n",
    "        if add_batchnorm and i%2 == 0:\n",
    "            model.add(tf.keras.layers.BatchNormalization())\n",
    "    \n",
    "    \n",
    "    model.add(tf.keras.layers.Dense(1, activation=\"sigmoid\"))\n",
    "    \n",
    "    lr = hp.Choice(\"learning_rate\", values=[0.01, 0.001])\n",
    "    \n",
    "    model.compile(\n",
    "    optimizer= tf.keras.optimizers.Adam(learning_rate=lr),\n",
    "    loss = \"mse\",\n",
    "    metrics = [accuracy]\n",
    "    )\n",
    "    return model"
   ]
  },
  {
   "cell_type": "code",
   "execution_count": 91,
   "metadata": {},
   "outputs": [],
   "source": [
    "tuner = kt.RandomSearch(task2_search_model_coarse,\n",
    "                        objective='val_accuracy',\n",
    "                        max_trials=60,\n",
    "                        seed=42,\n",
    "                        overwrite=True,\n",
    "                        directory=\"./hyp_searches/\",\n",
    "                        project_name=\"task2_coarse_1_search_bs64\")"
   ]
  },
  {
   "cell_type": "code",
   "execution_count": null,
   "metadata": {},
   "outputs": [],
   "source": [
    "%tensorboard --logdir \"./hyp_searches/task2_coarse_1_search_bs64\""
   ]
  },
  {
   "cell_type": "code",
   "execution_count": 132,
   "metadata": {},
   "outputs": [
    {
     "name": "stdout",
     "output_type": "stream",
     "text": [
      "Trial 60 Complete [00h 00m 14s]\n",
      "val_accuracy: 0.6110659837722778\n",
      "\n",
      "Best val_accuracy So Far: 0.6321508288383484\n",
      "Total elapsed time: 00h 19m 44s\n"
     ]
    }
   ],
   "source": [
    "tuner.search(\n",
    "    x_train_clean,\n",
    "    y_train_clean,\n",
    "    validation_split = 0.8,\n",
    "    batch_size=64,\n",
    "    epochs=10,\n",
    "    callbacks=[tf.keras.callbacks.TensorBoard(\"./hyp_searches/task2_coarse_1_search_bs64/tb_logs\")]\n",
    ")"
   ]
  },
  {
   "cell_type": "code",
   "execution_count": 145,
   "metadata": {},
   "outputs": [
    {
     "data": {
      "text/plain": [
       "{'num_layers': 8,\n",
       " 'reg_type': 'L1',\n",
       " 'reg_level': 0.0001,\n",
       " 'act_fuc': 'relu',\n",
       " 'add_batchnorm': False,\n",
       " 'num_neurons_layer_0': 40,\n",
       " 'kernel_initializer': 'glorot_uniform',\n",
       " 'num_neurons_layer_1': 10,\n",
       " 'learning_rate': 0.01,\n",
       " 'num_neurons_layer_2': 10,\n",
       " 'num_neurons_layer_3': 10,\n",
       " 'num_neurons_layer_4': 10,\n",
       " 'num_neurons_layer_5': 10,\n",
       " 'num_neurons_layer_6': 10,\n",
       " 'num_neurons_layer_7': 10}"
      ]
     },
     "execution_count": 145,
     "metadata": {},
     "output_type": "execute_result"
    }
   ],
   "source": [
    "best_params = tuner.get_best_hyperparameters()[0]\n",
    "best_params.values"
   ]
  },
  {
   "cell_type": "code",
   "execution_count": 146,
   "metadata": {},
   "outputs": [],
   "source": [
    "model = tuner.hypermodel.build(best_params)\n"
   ]
  },
  {
   "cell_type": "code",
   "execution_count": null,
   "metadata": {},
   "outputs": [],
   "source": [
    "%tensorboard --logdir \"./model_fit/task2_coarse_1_search_bs64\""
   ]
  },
  {
   "cell_type": "code",
   "execution_count": 147,
   "metadata": {},
   "outputs": [
    {
     "name": "stdout",
     "output_type": "stream",
     "text": [
      "Epoch 1/20\n",
      "\u001b[1m62/62\u001b[0m \u001b[32m━━━━━━━━━━━━━━━━━━━━\u001b[0m\u001b[37m\u001b[0m \u001b[1m1s\u001b[0m 3ms/step - accuracy: 0.5954 - loss: 0.0264 - val_accuracy: 0.6014 - val_loss: 0.0182\n",
      "Epoch 2/20\n",
      "\u001b[1m62/62\u001b[0m \u001b[32m━━━━━━━━━━━━━━━━━━━━\u001b[0m\u001b[37m\u001b[0m \u001b[1m0s\u001b[0m 2ms/step - accuracy: 0.6345 - loss: 0.0179 - val_accuracy: 0.6014 - val_loss: 0.0182\n",
      "Epoch 3/20\n",
      "\u001b[1m62/62\u001b[0m \u001b[32m━━━━━━━━━━━━━━━━━━━━\u001b[0m\u001b[37m\u001b[0m \u001b[1m0s\u001b[0m 2ms/step - accuracy: 0.5621 - loss: 0.0188 - val_accuracy: 0.6014 - val_loss: 0.0182\n",
      "Epoch 4/20\n",
      "\u001b[1m62/62\u001b[0m \u001b[32m━━━━━━━━━━━━━━━━━━━━\u001b[0m\u001b[37m\u001b[0m \u001b[1m0s\u001b[0m 2ms/step - accuracy: 0.5497 - loss: 0.0191 - val_accuracy: 0.6014 - val_loss: 0.0183\n",
      "Epoch 5/20\n",
      "\u001b[1m62/62\u001b[0m \u001b[32m━━━━━━━━━━━━━━━━━━━━\u001b[0m\u001b[37m\u001b[0m \u001b[1m0s\u001b[0m 2ms/step - accuracy: 0.6349 - loss: 0.0184 - val_accuracy: 0.6014 - val_loss: 0.0182\n",
      "Epoch 6/20\n",
      "\u001b[1m62/62\u001b[0m \u001b[32m━━━━━━━━━━━━━━━━━━━━\u001b[0m\u001b[37m\u001b[0m \u001b[1m0s\u001b[0m 2ms/step - accuracy: 0.6307 - loss: 0.0186 - val_accuracy: 0.6014 - val_loss: 0.0183\n",
      "Epoch 7/20\n",
      "\u001b[1m62/62\u001b[0m \u001b[32m━━━━━━━━━━━━━━━━━━━━\u001b[0m\u001b[37m\u001b[0m \u001b[1m0s\u001b[0m 2ms/step - accuracy: 0.6220 - loss: 0.0187 - val_accuracy: 0.6014 - val_loss: 0.0183\n",
      "Epoch 8/20\n",
      "\u001b[1m62/62\u001b[0m \u001b[32m━━━━━━━━━━━━━━━━━━━━\u001b[0m\u001b[37m\u001b[0m \u001b[1m0s\u001b[0m 2ms/step - accuracy: 0.6272 - loss: 0.0184 - val_accuracy: 0.6014 - val_loss: 0.0183\n",
      "Epoch 9/20\n",
      "\u001b[1m62/62\u001b[0m \u001b[32m━━━━━━━━━━━━━━━━━━━━\u001b[0m\u001b[37m\u001b[0m \u001b[1m0s\u001b[0m 2ms/step - accuracy: 0.6322 - loss: 0.0189 - val_accuracy: 0.6014 - val_loss: 0.0183\n",
      "Epoch 10/20\n",
      "\u001b[1m62/62\u001b[0m \u001b[32m━━━━━━━━━━━━━━━━━━━━\u001b[0m\u001b[37m\u001b[0m \u001b[1m0s\u001b[0m 2ms/step - accuracy: 0.6368 - loss: 0.0185 - val_accuracy: 0.6014 - val_loss: 0.0182\n",
      "Epoch 11/20\n",
      "\u001b[1m62/62\u001b[0m \u001b[32m━━━━━━━━━━━━━━━━━━━━\u001b[0m\u001b[37m\u001b[0m \u001b[1m0s\u001b[0m 2ms/step - accuracy: 0.6288 - loss: 0.0189 - val_accuracy: 0.6014 - val_loss: 0.0183\n",
      "Epoch 12/20\n",
      "\u001b[1m62/62\u001b[0m \u001b[32m━━━━━━━━━━━━━━━━━━━━\u001b[0m\u001b[37m\u001b[0m \u001b[1m0s\u001b[0m 2ms/step - accuracy: 0.6166 - loss: 0.0191 - val_accuracy: 0.6014 - val_loss: 0.0184\n",
      "Epoch 13/20\n",
      "\u001b[1m62/62\u001b[0m \u001b[32m━━━━━━━━━━━━━━━━━━━━\u001b[0m\u001b[37m\u001b[0m \u001b[1m0s\u001b[0m 2ms/step - accuracy: 0.6487 - loss: 0.0174 - val_accuracy: 0.6014 - val_loss: 0.0182\n",
      "Epoch 14/20\n",
      "\u001b[1m62/62\u001b[0m \u001b[32m━━━━━━━━━━━━━━━━━━━━\u001b[0m\u001b[37m\u001b[0m \u001b[1m0s\u001b[0m 2ms/step - accuracy: 0.6409 - loss: 0.0181 - val_accuracy: 0.6014 - val_loss: 0.0182\n",
      "Epoch 15/20\n",
      "\u001b[1m62/62\u001b[0m \u001b[32m━━━━━━━━━━━━━━━━━━━━\u001b[0m\u001b[37m\u001b[0m \u001b[1m0s\u001b[0m 2ms/step - accuracy: 0.6333 - loss: 0.0183 - val_accuracy: 0.6014 - val_loss: 0.0183\n",
      "Epoch 16/20\n",
      "\u001b[1m62/62\u001b[0m \u001b[32m━━━━━━━━━━━━━━━━━━━━\u001b[0m\u001b[37m\u001b[0m \u001b[1m0s\u001b[0m 2ms/step - accuracy: 0.6330 - loss: 0.0180 - val_accuracy: 0.6014 - val_loss: 0.0182\n",
      "Epoch 17/20\n",
      "\u001b[1m62/62\u001b[0m \u001b[32m━━━━━━━━━━━━━━━━━━━━\u001b[0m\u001b[37m\u001b[0m \u001b[1m0s\u001b[0m 2ms/step - accuracy: 0.6450 - loss: 0.0182 - val_accuracy: 0.6014 - val_loss: 0.0182\n",
      "Epoch 18/20\n",
      "\u001b[1m62/62\u001b[0m \u001b[32m━━━━━━━━━━━━━━━━━━━━\u001b[0m\u001b[37m\u001b[0m \u001b[1m0s\u001b[0m 2ms/step - accuracy: 0.4921 - loss: 0.0193 - val_accuracy: 0.6014 - val_loss: 0.0182\n",
      "Epoch 19/20\n",
      "\u001b[1m62/62\u001b[0m \u001b[32m━━━━━━━━━━━━━━━━━━━━\u001b[0m\u001b[37m\u001b[0m \u001b[1m0s\u001b[0m 2ms/step - accuracy: 0.6208 - loss: 0.0186 - val_accuracy: 0.6014 - val_loss: 0.0183\n",
      "Epoch 20/20\n",
      "\u001b[1m62/62\u001b[0m \u001b[32m━━━━━━━━━━━━━━━━━━━━\u001b[0m\u001b[37m\u001b[0m \u001b[1m0s\u001b[0m 3ms/step - accuracy: 0.6254 - loss: 0.0183 - val_accuracy: 0.6014 - val_loss: 0.0183\n"
     ]
    },
    {
     "data": {
      "text/plain": [
       "<keras.src.callbacks.history.History at 0x42aef0d40>"
      ]
     },
     "execution_count": 147,
     "metadata": {},
     "output_type": "execute_result"
    }
   ],
   "source": [
    "model.fit(\n",
    "    x_train_clean,\n",
    "    y_train_clean,\n",
    "    epochs=10,\n",
    "    batch_size=64,\n",
    "    validation_data=(x_test_clean,y_test_clean),\n",
    "    callbacks=[tf.keras.callbacks.TensorBoard(\"./model_fit/task2_coarse_1_search_bs64/tb_logs\", histogram_freq=1)]\n",
    ")"
   ]
  },
  {
   "cell_type": "code",
   "execution_count": 92,
   "metadata": {},
   "outputs": [],
   "source": [
    "def task2_search_model_coarse_2(hp):\n",
    "    ''' keeping only L1 and L1L2 regularizations this time.\n",
    "    checking more layers from 4 to 10 without step size as 2\n",
    "    setting up the kernel initializer as glorot_uniform as per the last optimization\n",
    "    adding batchnorm as per the last optimization. '''\n",
    "    \n",
    "    model = tf.keras.models.Sequential()\n",
    "    \n",
    "    model.add(tf.keras.layers.Input(shape=(12,)))\n",
    "    \n",
    "    num_layers = hp.Int(\"num_layers\", min_value=4, max_value=10)\n",
    "    reg_type = hp.Choice(\"reg_type\", [\"L1\", \"L1L2\"])\n",
    "    reg_level = hp.Choice(\"reg_level\", [0.0001, 0.001])\n",
    "    \n",
    "    act_fuc = hp.Choice(\"act_fuc\", [\"relu\", \"elu\"])\n",
    "    \n",
    "    for i in range(num_layers):\n",
    "        neurons = hp.Int(f\"num_neurons_layer_{i}\", min_value=10, max_value=750, step=2, sampling='log')\n",
    "        \n",
    "        if reg_type == \"L1\":\n",
    "            reg = tf.keras.regularizers.L1(l1=reg_level)\n",
    "        else:\n",
    "            reg = tf.keras.regularizers.L1L2(l1=reg_level, l2=reg_level)\n",
    "        \n",
    "        model.add(tf.keras.layers.Dense(neurons, activation=act_fuc,\n",
    "                                        activity_regularizer = reg,\n",
    "                                        kernel_initializer=\"glorot_uniform\",\n",
    "                                        bias_initializer=\"zeros\"))\n",
    "        \n",
    "        # batch norm after every alternate layer\n",
    "        if i%2 == 0:\n",
    "            model.add(tf.keras.layers.BatchNormalization())\n",
    "    \n",
    "    \n",
    "    model.add(tf.keras.layers.Dense(1, activation=\"sigmoid\"))\n",
    "    \n",
    "    lr = hp.Choice(\"learning_rate\", values=[0.01, 0.001, 0.0001])\n",
    "    \n",
    "    model.compile(\n",
    "    optimizer= tf.keras.optimizers.Adam(learning_rate=lr),\n",
    "    loss = \"mse\",\n",
    "    metrics = [accuracy]\n",
    "    )\n",
    "    return model"
   ]
  },
  {
   "cell_type": "code",
   "execution_count": 93,
   "metadata": {},
   "outputs": [],
   "source": [
    "tuner = kt.RandomSearch(task2_search_model_coarse_2,\n",
    "                        objective='val_accuracy',\n",
    "                        max_trials=60,\n",
    "                        seed=42,\n",
    "                        overwrite=True,\n",
    "                        directory=\"./hyp_searches/\",\n",
    "                        project_name=\"task2_coarse_2_search_bs32\")"
   ]
  },
  {
   "cell_type": "code",
   "execution_count": null,
   "metadata": {},
   "outputs": [],
   "source": [
    "%tensorboard --logdir \"./hyp_searches/task2_coarse_2_search_bs32\""
   ]
  },
  {
   "cell_type": "code",
   "execution_count": 94,
   "metadata": {},
   "outputs": [
    {
     "name": "stdout",
     "output_type": "stream",
     "text": [
      "Trial 60 Complete [00h 00m 08s]\n",
      "val_accuracy: 0.2733984887599945\n",
      "\n",
      "Best val_accuracy So Far: 0.6322071552276611\n",
      "Total elapsed time: 00h 07m 06s\n"
     ]
    }
   ],
   "source": [
    "# trying with batch size 32 this time\n",
    "tuner.search(\n",
    "    x_train_clean,\n",
    "    y_train_clean,\n",
    "    validation_split = 0.8,\n",
    "    batch_size=32,\n",
    "    epochs=10,\n",
    "    callbacks=[tf.keras.callbacks.TensorBoard(\"./hyp_searches/task2_coarse_2_search_bs32/tb_logs\")]\n",
    ")\n",
    "# the best val_accuracy shown during hyperparameter tuning is 0.632 -> 63.2%"
   ]
  },
  {
   "cell_type": "code",
   "execution_count": 95,
   "metadata": {},
   "outputs": [
    {
     "data": {
      "text/plain": [
       "{'num_layers': 5,\n",
       " 'reg_type': 'L1L2',\n",
       " 'reg_level': 0.001,\n",
       " 'act_fuc': 'elu',\n",
       " 'num_neurons_layer_0': 10,\n",
       " 'num_neurons_layer_1': 640,\n",
       " 'num_neurons_layer_2': 10,\n",
       " 'num_neurons_layer_3': 160,\n",
       " 'learning_rate': 0.01,\n",
       " 'num_neurons_layer_4': 40,\n",
       " 'num_neurons_layer_5': 80,\n",
       " 'num_neurons_layer_6': 640,\n",
       " 'num_neurons_layer_7': 80}"
      ]
     },
     "execution_count": 95,
     "metadata": {},
     "output_type": "execute_result"
    }
   ],
   "source": [
    "best_params = tuner.get_best_hyperparameters()[0]\n",
    "best_params.values"
   ]
  },
  {
   "cell_type": "code",
   "execution_count": 96,
   "metadata": {},
   "outputs": [],
   "source": [
    "# building model\n",
    "model = tuner.hypermodel.build(best_params)"
   ]
  },
  {
   "cell_type": "code",
   "execution_count": 103,
   "metadata": {},
   "outputs": [
    {
     "name": "stdout",
     "output_type": "stream",
     "text": [
      "Epoch 1/20\n",
      "\u001b[1m123/123\u001b[0m \u001b[32m━━━━━━━━━━━━━━━━━━━━\u001b[0m\u001b[37m\u001b[0m \u001b[1m0s\u001b[0m 2ms/step - accuracy: 0.4970 - loss: 0.0463 - val_accuracy: 0.4024 - val_loss: 0.0595\n",
      "Epoch 2/20\n",
      "\u001b[1m123/123\u001b[0m \u001b[32m━━━━━━━━━━━━━━━━━━━━\u001b[0m\u001b[37m\u001b[0m \u001b[1m0s\u001b[0m 2ms/step - accuracy: 0.4816 - loss: 0.0452 - val_accuracy: 0.2306 - val_loss: 0.0914\n",
      "Epoch 3/20\n",
      "\u001b[1m123/123\u001b[0m \u001b[32m━━━━━━━━━━━━━━━━━━━━\u001b[0m\u001b[37m\u001b[0m \u001b[1m0s\u001b[0m 1ms/step - accuracy: 0.4865 - loss: 0.0484 - val_accuracy: 0.4305 - val_loss: 0.0558\n",
      "Epoch 4/20\n",
      "\u001b[1m123/123\u001b[0m \u001b[32m━━━━━━━━━━━━━━━━━━━━\u001b[0m\u001b[37m\u001b[0m \u001b[1m0s\u001b[0m 1ms/step - accuracy: 0.4854 - loss: 0.0433 - val_accuracy: 0.2393 - val_loss: 0.0836\n",
      "Epoch 5/20\n",
      "\u001b[1m123/123\u001b[0m \u001b[32m━━━━━━━━━━━━━━━━━━━━\u001b[0m\u001b[37m\u001b[0m \u001b[1m0s\u001b[0m 1ms/step - accuracy: 0.4743 - loss: 0.0451 - val_accuracy: 0.2894 - val_loss: 0.0830\n",
      "Epoch 6/20\n",
      "\u001b[1m123/123\u001b[0m \u001b[32m━━━━━━━━━━━━━━━━━━━━\u001b[0m\u001b[37m\u001b[0m \u001b[1m0s\u001b[0m 1ms/step - accuracy: 0.4949 - loss: 0.0481 - val_accuracy: 0.5987 - val_loss: 0.0748\n",
      "Epoch 7/20\n",
      "\u001b[1m123/123\u001b[0m \u001b[32m━━━━━━━━━━━━━━━━━━━━\u001b[0m\u001b[37m\u001b[0m \u001b[1m0s\u001b[0m 1ms/step - accuracy: 0.4799 - loss: 0.0482 - val_accuracy: 0.0600 - val_loss: 0.1357\n",
      "Epoch 8/20\n",
      "\u001b[1m123/123\u001b[0m \u001b[32m━━━━━━━━━━━━━━━━━━━━\u001b[0m\u001b[37m\u001b[0m \u001b[1m0s\u001b[0m 1ms/step - accuracy: 0.4823 - loss: 0.0466 - val_accuracy: 0.5244 - val_loss: 0.0714\n",
      "Epoch 9/20\n",
      "\u001b[1m123/123\u001b[0m \u001b[32m━━━━━━━━━━━━━━━━━━━━\u001b[0m\u001b[37m\u001b[0m \u001b[1m0s\u001b[0m 1ms/step - accuracy: 0.4925 - loss: 0.0473 - val_accuracy: 0.5263 - val_loss: 0.0622\n",
      "Epoch 10/20\n",
      "\u001b[1m123/123\u001b[0m \u001b[32m━━━━━━━━━━━━━━━━━━━━\u001b[0m\u001b[37m\u001b[0m \u001b[1m0s\u001b[0m 1ms/step - accuracy: 0.4595 - loss: 0.0493 - val_accuracy: 0.5582 - val_loss: 0.0717\n",
      "Epoch 11/20\n",
      "\u001b[1m123/123\u001b[0m \u001b[32m━━━━━━━━━━━━━━━━━━━━\u001b[0m\u001b[37m\u001b[0m \u001b[1m0s\u001b[0m 1ms/step - accuracy: 0.4801 - loss: 0.0481 - val_accuracy: 0.5565 - val_loss: 0.0588\n",
      "Epoch 12/20\n",
      "\u001b[1m123/123\u001b[0m \u001b[32m━━━━━━━━━━━━━━━━━━━━\u001b[0m\u001b[37m\u001b[0m \u001b[1m0s\u001b[0m 1ms/step - accuracy: 0.5022 - loss: 0.0467 - val_accuracy: 0.4691 - val_loss: 0.0580\n",
      "Epoch 13/20\n",
      "\u001b[1m123/123\u001b[0m \u001b[32m━━━━━━━━━━━━━━━━━━━━\u001b[0m\u001b[37m\u001b[0m \u001b[1m0s\u001b[0m 1ms/step - accuracy: 0.4752 - loss: 0.0466 - val_accuracy: 0.1625 - val_loss: 0.1083\n",
      "Epoch 14/20\n",
      "\u001b[1m123/123\u001b[0m \u001b[32m━━━━━━━━━━━━━━━━━━━━\u001b[0m\u001b[37m\u001b[0m \u001b[1m0s\u001b[0m 1ms/step - accuracy: 0.4956 - loss: 0.0478 - val_accuracy: 0.2676 - val_loss: 0.0788\n",
      "Epoch 15/20\n",
      "\u001b[1m123/123\u001b[0m \u001b[32m━━━━━━━━━━━━━━━━━━━━\u001b[0m\u001b[37m\u001b[0m \u001b[1m0s\u001b[0m 1ms/step - accuracy: 0.4785 - loss: 0.0490 - val_accuracy: 0.4403 - val_loss: 0.0601\n",
      "Epoch 16/20\n",
      "\u001b[1m123/123\u001b[0m \u001b[32m━━━━━━━━━━━━━━━━━━━━\u001b[0m\u001b[37m\u001b[0m \u001b[1m0s\u001b[0m 1ms/step - accuracy: 0.4673 - loss: 0.0483 - val_accuracy: 0.4045 - val_loss: 0.0844\n",
      "Epoch 17/20\n",
      "\u001b[1m123/123\u001b[0m \u001b[32m━━━━━━━━━━━━━━━━━━━━\u001b[0m\u001b[37m\u001b[0m \u001b[1m0s\u001b[0m 1ms/step - accuracy: 0.4810 - loss: 0.0478 - val_accuracy: 0.3389 - val_loss: 0.0612\n",
      "Epoch 18/20\n",
      "\u001b[1m123/123\u001b[0m \u001b[32m━━━━━━━━━━━━━━━━━━━━\u001b[0m\u001b[37m\u001b[0m \u001b[1m0s\u001b[0m 1ms/step - accuracy: 0.4654 - loss: 0.0485 - val_accuracy: 0.4179 - val_loss: 0.0583\n",
      "Epoch 19/20\n",
      "\u001b[1m123/123\u001b[0m \u001b[32m━━━━━━━━━━━━━━━━━━━━\u001b[0m\u001b[37m\u001b[0m \u001b[1m0s\u001b[0m 1ms/step - accuracy: 0.4815 - loss: 0.0467 - val_accuracy: 0.3047 - val_loss: 0.0619\n",
      "Epoch 20/20\n",
      "\u001b[1m123/123\u001b[0m \u001b[32m━━━━━━━━━━━━━━━━━━━━\u001b[0m\u001b[37m\u001b[0m \u001b[1m0s\u001b[0m 1ms/step - accuracy: 0.4907 - loss: 0.0474 - val_accuracy: 0.4885 - val_loss: 0.0587\n"
     ]
    }
   ],
   "source": [
    "history = model.fit(\n",
    "    x_train_clean,\n",
    "    y_train_clean,\n",
    "    epochs=20,\n",
    "    batch_size=32,\n",
    "    validation_data=(x_test_clean,y_test_clean)\n",
    ")"
   ]
  },
  {
   "cell_type": "code",
   "execution_count": 106,
   "metadata": {},
   "outputs": [
    {
     "name": "stdout",
     "output_type": "stream",
     "text": [
      "\u001b[1m22/22\u001b[0m \u001b[32m━━━━━━━━━━━━━━━━━━━━\u001b[0m\u001b[37m\u001b[0m \u001b[1m0s\u001b[0m 999us/step - accuracy: 0.4956 - loss: 0.0594\n",
      "[0.05874769762158394, 0.488455206155777]\n"
     ]
    }
   ],
   "source": [
    "print(model.evaluate(x_test_clean, y_test_clean))\n",
    "# the model is performing poorly on the test dataset. The accuracy is around 49%. Poorer than the task1 model.\n"
   ]
  },
  {
   "cell_type": "code",
   "execution_count": 109,
   "metadata": {},
   "outputs": [],
   "source": [
    "# saving the model first\n",
    "model.save(\"./task2_model_1.keras\")"
   ]
  },
  {
   "cell_type": "code",
   "execution_count": 271,
   "metadata": {},
   "outputs": [],
   "source": [
    "model = tf.keras.models.load_model(\"./task2_model_1.keras\", custom_objects={'accuracy': accuracy})"
   ]
  },
  {
   "cell_type": "code",
   "execution_count": 284,
   "metadata": {},
   "outputs": [],
   "source": [
    "# function that returns a confusion matrix\n",
    "def get_confusion_matrix(y_true, y_pred, labels):\n",
    "    from sklearn.metrics import confusion_matrix\n",
    "    return confusion_matrix(y_true, y_pred, labels=labels)"
   ]
  },
  {
   "cell_type": "code",
   "execution_count": 285,
   "metadata": {},
   "outputs": [
    {
     "name": "stdout",
     "output_type": "stream",
     "text": [
      "{1: 0.13, 2: 0.69, 3: 62.92, 4: 26.75, 5: 9.51}\n",
      "\u001b[1m123/123\u001b[0m \u001b[32m━━━━━━━━━━━━━━━━━━━━\u001b[0m\u001b[37m\u001b[0m \u001b[1m0s\u001b[0m 450us/step\n",
      "Confusion matrix of the Y training dataset: \n",
      " [[   0    0    0    5    0]\n",
      " [   0    0    4   23    0]\n",
      " [   0    0 1945  515    0]\n",
      " [   0    0  366  680    0]\n",
      " [   0    0   29  343    0]]\n"
     ]
    }
   ],
   "source": [
    "class_counts = {int(_class): 0 for _class in np.unique(y_train)}\n",
    "for value in y_train:\n",
    "    class_counts[value] += 1\n",
    "class_counts = {_class: round(count/len(y_train) * 100, 2) for _class, count in class_counts.items()}\n",
    "print(class_counts)\n",
    "# 0.4 (class 3) coveres 63% of the entire training dataset which is almost the same as the epoch accuracy during tuning!\n",
    "# Class 1 and 2 (0 and 0.2) are only 0.12% and 0.7%! Class distribution is highly skewed.\n",
    "predicted_y_train = np.round(model.predict(x_train_clean) * 5).astype(int) + 1\n",
    "print(\"Confusion matrix of the Y training dataset: \\n\",\n",
    "      get_confusion_matrix(y_train, predicted_y_train, [1, 2, 3, 4, 5]))"
   ]
  },
  {
   "cell_type": "code",
   "execution_count": 95,
   "metadata": {},
   "outputs": [],
   "source": [
    "# from the above it is clear why the model is not performing well. It is wrongly classifying almost every class as \n",
    "# class 3 or class 4! This is because class 3 is present the highest amount of time (by a lot that too) and \n",
    "# class 4 is second highest. The loss gets minimized a lot of times when the model correctly classifies the class 3\n",
    "# or 4. Hence, it has learnt to classify almost everything as 3. We can try assigning class weights to the MSE loss \n",
    "# function. Higher weights will be assigned to classes which occupy less percentage of the data. \n",
    "# This way missclassification of these classes will result in a higher error!"
   ]
  },
  {
   "cell_type": "code",
   "execution_count": 309,
   "metadata": {},
   "outputs": [
    {
     "name": "stdout",
     "output_type": "stream",
     "text": [
      "{0.0: 156.4, 0.2: 28.96, 0.4: 0.32, 0.6: 0.75, 0.8: 2.1}\n"
     ]
    }
   ],
   "source": [
    "# calculating weights for weighted mean squared error due to the skewed class ditribution\n",
    "from sklearn.utils.class_weight import compute_class_weight\n",
    "\n",
    "class_weights = compute_class_weight('balanced', classes=np.unique(y_train_clean), y=y_train_clean)\n",
    "class_weights_dict = {float(cls): round(float(weight),2) \n",
    "                      for cls, weight in zip(np.unique(y_train_clean), class_weights)}\n",
    "print(class_weights_dict)"
   ]
  },
  {
   "cell_type": "code",
   "execution_count": 294,
   "metadata": {},
   "outputs": [],
   "source": [
    "def weighted_mse(y_true, y_pred):\n",
    "    # hard-coding the weights given by sklearn in the previous cell\n",
    "    weights = tf.where(y_true == 0, 156.4, tf.where(y_true == 0.2, 28.96, \n",
    "                                                    tf.where(y_true == 0.4, 0.32, \n",
    "                                                                         tf.where(y_true == 0.6, 0.75, 2.1))))\n",
    "    error = tf.square(y_true - y_pred)\n",
    "    weighted_error = error * weights\n",
    "    return tf.reduce_mean(weighted_error, axis=-1)"
   ]
  },
  {
   "cell_type": "code",
   "execution_count": 295,
   "metadata": {},
   "outputs": [],
   "source": [
    "def task2_search_model_coarse_3(hp):\n",
    "    '''passing the loss function as weighted_mse this time'''\n",
    "    \n",
    "    model = tf.keras.models.Sequential()\n",
    "    \n",
    "    model.add(tf.keras.layers.Input(shape=(12,)))\n",
    "    \n",
    "    num_layers = hp.Int(\"num_layers\", min_value=4, max_value=10)\n",
    "    reg_type = hp.Choice(\"reg_type\", [\"L1\", \"L1L2\"])\n",
    "    reg_level = hp.Choice(\"reg_level\", [0.0001, 0.001])\n",
    "    \n",
    "    act_fuc = hp.Choice(\"act_fuc\", [\"relu\", \"elu\"])\n",
    "    \n",
    "    for i in range(num_layers):\n",
    "        neurons = hp.Int(f\"num_neurons_layer_{i}\", min_value=10, max_value=750, step=2, sampling='log')\n",
    "        \n",
    "        if reg_type == \"L1\":\n",
    "            reg = tf.keras.regularizers.L1(l1=reg_level)\n",
    "        else:\n",
    "            reg = tf.keras.regularizers.L1L2(l1=reg_level, l2=reg_level)\n",
    "        \n",
    "        model.add(tf.keras.layers.Dense(neurons, activation=act_fuc,\n",
    "                                        activity_regularizer = reg,\n",
    "                                        kernel_initializer=\"glorot_uniform\",\n",
    "                                        bias_initializer=\"zeros\"))\n",
    "        \n",
    "        # batch norm after every alternate layer\n",
    "        if i%2 == 0:\n",
    "            model.add(tf.keras.layers.BatchNormalization())\n",
    "    \n",
    "    \n",
    "    model.add(tf.keras.layers.Dense(1, activation=\"sigmoid\"))\n",
    "    \n",
    "    lr = hp.Choice(\"learning_rate\", values=[0.01, 0.001, 0.0001])\n",
    "    \n",
    "    model.compile(\n",
    "    optimizer= tf.keras.optimizers.Adam(learning_rate=lr),\n",
    "    loss = weighted_mse,\n",
    "    metrics = [accuracy]\n",
    "    )\n",
    "    return model"
   ]
  },
  {
   "cell_type": "code",
   "execution_count": 296,
   "metadata": {},
   "outputs": [],
   "source": [
    "tuner = kt.RandomSearch(task2_search_model_coarse_3,\n",
    "                        objective='val_accuracy',\n",
    "                        max_trials=60,\n",
    "                        seed=42,\n",
    "                        overwrite=True,\n",
    "                        directory=\"./hyp_searches/\",\n",
    "                        project_name=\"task2_coarse_3_search_bs32\")"
   ]
  },
  {
   "cell_type": "code",
   "execution_count": null,
   "metadata": {},
   "outputs": [],
   "source": [
    "%tensorboard --logdir \"./hyp_searches/task2_coarse_3_search_bs32\""
   ]
  },
  {
   "cell_type": "code",
   "execution_count": 297,
   "metadata": {},
   "outputs": [
    {
     "name": "stdout",
     "output_type": "stream",
     "text": [
      "Trial 60 Complete [00h 00m 33s]\n",
      "val_accuracy: 0.44800055027008057\n",
      "\n",
      "Best val_accuracy So Far: 0.6322071552276611\n",
      "Total elapsed time: 00h 47m 21s\n"
     ]
    }
   ],
   "source": [
    "tuner.search(\n",
    "    x_train_clean,\n",
    "    y_train_clean,\n",
    "    validation_split = 0.8,\n",
    "    batch_size=32,\n",
    "    epochs=10,\n",
    "    callbacks=[tf.keras.callbacks.TensorBoard(\"./hyp_searches/task2_coarse_3_search_bs32/tb_logs\")]\n",
    ")\n",
    "# the best val_accuracy shown during hyperparameter tuning is 0.632 -> 63.2%"
   ]
  },
  {
   "cell_type": "code",
   "execution_count": 298,
   "metadata": {},
   "outputs": [
    {
     "data": {
      "text/plain": [
       "{'num_layers': 5,\n",
       " 'reg_type': 'L1L2',\n",
       " 'reg_level': 0.001,\n",
       " 'act_fuc': 'elu',\n",
       " 'num_neurons_layer_0': 10,\n",
       " 'num_neurons_layer_1': 640,\n",
       " 'num_neurons_layer_2': 10,\n",
       " 'num_neurons_layer_3': 160,\n",
       " 'learning_rate': 0.01,\n",
       " 'num_neurons_layer_4': 40,\n",
       " 'num_neurons_layer_5': 80,\n",
       " 'num_neurons_layer_6': 640,\n",
       " 'num_neurons_layer_7': 80}"
      ]
     },
     "execution_count": 298,
     "metadata": {},
     "output_type": "execute_result"
    }
   ],
   "source": [
    "best_params = tuner.get_best_hyperparameters()[0]\n",
    "best_params.values"
   ]
  },
  {
   "cell_type": "code",
   "execution_count": 299,
   "metadata": {},
   "outputs": [],
   "source": [
    "model = tuner.hypermodel.build(best_params)"
   ]
  },
  {
   "cell_type": "code",
   "execution_count": 303,
   "metadata": {},
   "outputs": [
    {
     "name": "stdout",
     "output_type": "stream",
     "text": [
      "Epoch 1/20\n",
      "\u001b[1m123/123\u001b[0m \u001b[32m━━━━━━━━━━━━━━━━━━━━\u001b[0m\u001b[37m\u001b[0m \u001b[1m0s\u001b[0m 2ms/step - accuracy: 0.4482 - loss: 0.1240 - val_accuracy: 0.5328 - val_loss: 0.2232\n",
      "Epoch 2/20\n",
      "\u001b[1m123/123\u001b[0m \u001b[32m━━━━━━━━━━━━━━━━━━━━\u001b[0m\u001b[37m\u001b[0m \u001b[1m0s\u001b[0m 1ms/step - accuracy: 0.3947 - loss: 0.1608 - val_accuracy: 0.4817 - val_loss: 0.2071\n",
      "Epoch 3/20\n",
      "\u001b[1m123/123\u001b[0m \u001b[32m━━━━━━━━━━━━━━━━━━━━\u001b[0m\u001b[37m\u001b[0m \u001b[1m0s\u001b[0m 1ms/step - accuracy: 0.5786 - loss: 0.1982 - val_accuracy: 0.5337 - val_loss: 0.1789\n",
      "Epoch 4/20\n",
      "\u001b[1m123/123\u001b[0m \u001b[32m━━━━━━━━━━━━━━━━━━━━\u001b[0m\u001b[37m\u001b[0m \u001b[1m0s\u001b[0m 1ms/step - accuracy: 0.5833 - loss: 0.1226 - val_accuracy: 0.6013 - val_loss: 0.1573\n",
      "Epoch 5/20\n",
      "\u001b[1m123/123\u001b[0m \u001b[32m━━━━━━━━━━━━━━━━━━━━\u001b[0m\u001b[37m\u001b[0m \u001b[1m0s\u001b[0m 1ms/step - accuracy: 0.5981 - loss: 0.1415 - val_accuracy: 0.5934 - val_loss: 0.1400\n",
      "Epoch 6/20\n",
      "\u001b[1m123/123\u001b[0m \u001b[32m━━━━━━━━━━━━━━━━━━━━\u001b[0m\u001b[37m\u001b[0m \u001b[1m0s\u001b[0m 1ms/step - accuracy: 0.6089 - loss: 0.1140 - val_accuracy: 0.5188 - val_loss: 0.1227\n",
      "Epoch 7/20\n",
      "\u001b[1m123/123\u001b[0m \u001b[32m━━━━━━━━━━━━━━━━━━━━\u001b[0m\u001b[37m\u001b[0m \u001b[1m0s\u001b[0m 1ms/step - accuracy: 0.5649 - loss: 0.1125 - val_accuracy: 0.5943 - val_loss: 0.1316\n",
      "Epoch 8/20\n",
      "\u001b[1m123/123\u001b[0m \u001b[32m━━━━━━━━━━━━━━━━━━━━\u001b[0m\u001b[37m\u001b[0m \u001b[1m0s\u001b[0m 1ms/step - accuracy: 0.5859 - loss: 0.1207 - val_accuracy: 0.5821 - val_loss: 0.1415\n",
      "Epoch 9/20\n",
      "\u001b[1m123/123\u001b[0m \u001b[32m━━━━━━━━━━━━━━━━━━━━\u001b[0m\u001b[37m\u001b[0m \u001b[1m0s\u001b[0m 1ms/step - accuracy: 0.5276 - loss: 0.1272 - val_accuracy: 0.4574 - val_loss: 0.1410\n",
      "Epoch 10/20\n",
      "\u001b[1m123/123\u001b[0m \u001b[32m━━━━━━━━━━━━━━━━━━━━\u001b[0m\u001b[37m\u001b[0m \u001b[1m0s\u001b[0m 1ms/step - accuracy: 0.5671 - loss: 0.1165 - val_accuracy: 0.5318 - val_loss: 0.1203\n",
      "Epoch 11/20\n",
      "\u001b[1m123/123\u001b[0m \u001b[32m━━━━━━━━━━━━━━━━━━━━\u001b[0m\u001b[37m\u001b[0m \u001b[1m0s\u001b[0m 1ms/step - accuracy: 0.5502 - loss: 0.1286 - val_accuracy: 0.5233 - val_loss: 0.1229\n",
      "Epoch 12/20\n",
      "\u001b[1m123/123\u001b[0m \u001b[32m━━━━━━━━━━━━━━━━━━━━\u001b[0m\u001b[37m\u001b[0m \u001b[1m0s\u001b[0m 1ms/step - accuracy: 0.5278 - loss: 0.1160 - val_accuracy: 0.6013 - val_loss: 0.1465\n",
      "Epoch 13/20\n",
      "\u001b[1m123/123\u001b[0m \u001b[32m━━━━━━━━━━━━━━━━━━━━\u001b[0m\u001b[37m\u001b[0m \u001b[1m0s\u001b[0m 1ms/step - accuracy: 0.5423 - loss: 0.1284 - val_accuracy: 0.5474 - val_loss: 0.1709\n",
      "Epoch 14/20\n",
      "\u001b[1m123/123\u001b[0m \u001b[32m━━━━━━━━━━━━━━━━━━━━\u001b[0m\u001b[37m\u001b[0m \u001b[1m0s\u001b[0m 1ms/step - accuracy: 0.5274 - loss: 0.1147 - val_accuracy: 0.0569 - val_loss: 0.2073\n",
      "Epoch 15/20\n",
      "\u001b[1m123/123\u001b[0m \u001b[32m━━━━━━━━━━━━━━━━━━━━\u001b[0m\u001b[37m\u001b[0m \u001b[1m0s\u001b[0m 1ms/step - accuracy: 0.5212 - loss: 0.1491 - val_accuracy: 0.1772 - val_loss: 0.5998\n",
      "Epoch 16/20\n",
      "\u001b[1m123/123\u001b[0m \u001b[32m━━━━━━━━━━━━━━━━━━━━\u001b[0m\u001b[37m\u001b[0m \u001b[1m0s\u001b[0m 1ms/step - accuracy: 0.4610 - loss: 0.3267 - val_accuracy: 0.3474 - val_loss: 0.8732\n",
      "Epoch 17/20\n",
      "\u001b[1m123/123\u001b[0m \u001b[32m━━━━━━━━━━━━━━━━━━━━\u001b[0m\u001b[37m\u001b[0m \u001b[1m0s\u001b[0m 1ms/step - accuracy: 0.5216 - loss: 0.3238 - val_accuracy: 0.6000 - val_loss: 0.4917\n",
      "Epoch 18/20\n",
      "\u001b[1m123/123\u001b[0m \u001b[32m━━━━━━━━━━━━━━━━━━━━\u001b[0m\u001b[37m\u001b[0m \u001b[1m0s\u001b[0m 2ms/step - accuracy: 0.5817 - loss: 0.3209 - val_accuracy: 0.6013 - val_loss: 0.2408\n",
      "Epoch 19/20\n",
      "\u001b[1m123/123\u001b[0m \u001b[32m━━━━━━━━━━━━━━━━━━━━\u001b[0m\u001b[37m\u001b[0m \u001b[1m0s\u001b[0m 1ms/step - accuracy: 0.6148 - loss: 0.1503 - val_accuracy: 0.5919 - val_loss: 0.2073\n",
      "Epoch 20/20\n",
      "\u001b[1m123/123\u001b[0m \u001b[32m━━━━━━━━━━━━━━━━━━━━\u001b[0m\u001b[37m\u001b[0m \u001b[1m0s\u001b[0m 1ms/step - accuracy: 0.6229 - loss: 0.1296 - val_accuracy: 0.5995 - val_loss: 0.1969\n"
     ]
    }
   ],
   "source": [
    "history_2 = model.fit(\n",
    "        x_train_clean,\n",
    "        y_train_clean,\n",
    "        epochs=20,\n",
    "        batch_size=32,\n",
    "        validation_data=(x_test_clean,y_test_clean)\n",
    "    )"
   ]
  },
  {
   "cell_type": "code",
   "execution_count": 304,
   "metadata": {},
   "outputs": [
    {
     "name": "stdout",
     "output_type": "stream",
     "text": [
      "\u001b[1m22/22\u001b[0m \u001b[32m━━━━━━━━━━━━━━━━━━━━\u001b[0m\u001b[37m\u001b[0m \u001b[1m0s\u001b[0m 1ms/step - accuracy: 0.6362 - loss: 0.1858 \n"
     ]
    },
    {
     "data": {
      "text/plain": [
       "[0.1969432383775711, 0.5994594097137451]"
      ]
     },
     "execution_count": 304,
     "metadata": {},
     "output_type": "execute_result"
    }
   ],
   "source": [
    "model.evaluate(x_test_clean, y_test_clean)\n",
    "# the model accuracy is slightly better with the weighted MSE loss - 60%"
   ]
  },
  {
   "cell_type": "code",
   "execution_count": 306,
   "metadata": {},
   "outputs": [],
   "source": [
    "model.save(\"./task2_model_2.keras\")"
   ]
  },
  {
   "cell_type": "code",
   "execution_count": 288,
   "metadata": {},
   "outputs": [],
   "source": [
    "model = tf.keras.models.load_model(\"./task2_model_2.keras\", custom_objects={'weighted_mse': weighted_mse,\n",
    "                                                                            'accuracy': accuracy})"
   ]
  },
  {
   "cell_type": "code",
   "execution_count": 308,
   "metadata": {},
   "outputs": [
    {
     "name": "stdout",
     "output_type": "stream",
     "text": [
      "\u001b[1m22/22\u001b[0m \u001b[32m━━━━━━━━━━━━━━━━━━━━\u001b[0m\u001b[37m\u001b[0m \u001b[1m0s\u001b[0m 5ms/step\n",
      "Confusion matrix of the testing dataset for model 2: \n",
      " [[  0   0   1   0   0]\n",
      " [  0   0   5   0   0]\n",
      " [  0   1 413   1   0]\n",
      " [  0   0 205   0   1]\n",
      " [  0   0  63   0   0]]\n"
     ]
    }
   ],
   "source": [
    "# training data classification\n",
    "predicted_y = np.round(model.predict(x_test_clean) * 5).astype(int) + 1\n",
    "print(\"Confusion matrix of the testing dataset for model 2: \\n\", \n",
    "      get_confusion_matrix(y_test, predicted_y, [1, 2, 3, 4, 5]))\n",
    "# almost everything classified as 3"
   ]
  },
  {
   "cell_type": "code",
   "execution_count": 305,
   "metadata": {},
   "outputs": [
    {
     "data": {
      "image/png": "[encoded data removed]",
      "text/plain": [
       "<Figure size 640x480 with 1 Axes>"
      ]
     },
     "metadata": {},
     "output_type": "display_data"
    }
   ],
   "source": [
    "plt.plot(history_2.history['accuracy'])\n",
    "plt.plot(history_2.history['val_accuracy'])\n",
    "plt.title('Task2 Model Accuracy')\n",
    "plt.ylabel('accuracy')\n",
    "plt.xlabel('epoch')\n",
    "plt.legend(['train', 'val'], loc='upper left')\n",
    "plt.show()\n",
    "# accuracy is not really increasing properly with the number of epochs."
   ]
  },
  {
   "cell_type": "code",
   "execution_count": 307,
   "metadata": {},
   "outputs": [
    {
     "data": {
      "image/png": "[encoded data removed]",
      "text/plain": [
       "<Figure size 640x480 with 1 Axes>"
      ]
     },
     "metadata": {},
     "output_type": "display_data"
    }
   ],
   "source": [
    "plt.plot(history_2.history['loss'])\n",
    "plt.plot(history_2.history['val_loss'])\n",
    "plt.title('Task2 Model Loss')\n",
    "plt.ylabel('loss')\n",
    "plt.xlabel('epoch')\n",
    "plt.legend(['train', 'val'], loc='upper left')\n",
    "plt.show()\n",
    "# loss isn't decreasing with the number of epochs. "
   ]
  },
  {
   "cell_type": "markdown",
   "metadata": {
    "id": "MJusUipF0PZQ"
   },
   "source": [
    "## Compare the models from Task 1 and Task 2\n",
    "\n",
    "Which is better, and why do you think this is the case? Are these results what you expected? Explain in no more than 10 sentences."
   ]
  },
  {
   "cell_type": "code",
   "execution_count": null,
   "metadata": {
    "id": "lZDBajuTF9le"
   },
   "outputs": [],
   "source": [
    "final_explanation =  '''\n",
    "  The model from Task 1 is better than the model from Task 2. This is because of the following reasons:\n",
    "  \n",
    "  1. The validation and training accuracy of task 1's model is better than task 2's model. That being said, both the\n",
    "      models are mostly classifying the Y values as 3 or 4. Model 1 does a better job as per the confusion matrix \n",
    "      above. It still correctly classifies a lot of values however, the model from task 2 only classifies class 3\n",
    "      correctly. \n",
    "  2. The incorrect classifications are because of the extreme skewed distribution of the Y values. The training \n",
    "      dataset has around 63% of values as 3 and 27% of values as 4. As a result, the models learn to classify almost everything as either 3 or 4 because correctly classifying 3 and 4 reduces their loss\n",
    "      function significantly due to the sheer amount of values.\n",
    "  3. The training accuracy and loss of model 2 don't improve with the number of epochs either. The graph is almost\n",
    "      stationary with a lot of spikes. However, model 1's accuracy and loss can be seen improving with the number of\n",
    "      epochs.\n",
    "\n",
    "The result is expected because in task 2 we are treating the problem as regression with only one neuron in the final\n",
    "layer with a sigmoid function to generate continuous values. The regression loss functions like MSE and weighted MSE\n",
    "aren't helpful in this classification. We are looking for discrete values rather than continuous values.\n",
    "Hence, even though the Y variable is ordinal, Softmax output layer with 5 neurons is doing a better job by generating\n",
    "each value's probabilities.\n",
    "'''"
   ]
  }
 ],
 "metadata": {
  "colab": {
   "provenance": []
  },
  "kernelspec": {
   "display_name": "cs6421_env",
   "language": "python",
   "name": "cs6421_env"
  },
  "language_info": {
   "codemirror_mode": {
    "name": "ipython",
    "version": 3
   },
   "file_extension": ".py",
   "mimetype": "text/x-python",
   "name": "python",
   "nbconvert_exporter": "python",
   "pygments_lexer": "ipython3",
   "version": "3.12.2"
  }
 },
 "nbformat": 4,
 "nbformat_minor": 4
}
